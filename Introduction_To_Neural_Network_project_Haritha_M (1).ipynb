{
  "cells": [
    {
      "cell_type": "markdown",
      "metadata": {
        "id": "IkSOdUEHhn0U"
      },
      "source": [
        "# **Neural Network Project** \n"
      ]
    },
    {
      "cell_type": "markdown",
      "metadata": {
        "id": "DhcradglhNrv"
      },
      "source": [
        "# **Part A**"
      ]
    },
    {
      "cell_type": "code",
      "execution_count": 2,
      "metadata": {
        "id": "kF6oQehdg6wA",
        "colab": {
          "base_uri": "https://localhost:8080/"
        },
        "outputId": "5ec9dec6-5c59-406e-c7e8-d91f04cf3508"
      },
      "outputs": [
        {
          "output_type": "stream",
          "name": "stdout",
          "text": [
            "Drive already mounted at /content/drive; to attempt to forcibly remount, call drive.mount(\"/content/drive\", force_remount=True).\n"
          ]
        }
      ],
      "source": [
        "from google.colab import drive\n",
        "drive.mount('/content/drive')"
      ]
    },
    {
      "cell_type": "markdown",
      "metadata": {
        "id": "KWZIQ9sUiZY3"
      },
      "source": [
        "# **Steps and tasks:**"
      ]
    },
    {
      "cell_type": "markdown",
      "metadata": {
        "id": "JK55pUJLiwAN"
      },
      "source": [
        "# **1. Data import and Understanding**"
      ]
    },
    {
      "cell_type": "markdown",
      "metadata": {
        "id": "ih3Z0tP1i3Pu"
      },
      "source": [
        "# 1.A. Read the ‘Signals.csv’ as DataFrame and import required libraries"
      ]
    },
    {
      "cell_type": "code",
      "execution_count": 3,
      "metadata": {
        "id": "oicseMHQflTL"
      },
      "outputs": [],
      "source": [
        "import numpy as np\n",
        "import pandas as pd\n",
        "import seaborn as sns\n",
        "from sklearn import preprocessing\n",
        "import tensorflow as tf\n",
        "import tensorflow\n",
        "from tensorflow.keras import layers\n",
        "from tensorflow.keras.layers import Input,InputLayer,Dense\n",
        "from sklearn.model_selection import train_test_split\n",
        "import matplotlib.pyplot as plt\n",
        "import random\n",
        "from tensorflow.keras import backend\n",
        "random.seed(1)\n",
        "np.random.seed(1) \n",
        "tf.random.set_seed(1)\n",
        "%matplotlib inline"
      ]
    },
    {
      "cell_type": "code",
      "execution_count": 4,
      "metadata": {
        "id": "B0b1eVT7fqbw",
        "colab": {
          "base_uri": "https://localhost:8080/",
          "height": 288
        },
        "outputId": "dd8aab0c-cf23-495c-ec9a-95f209d3892c"
      },
      "outputs": [
        {
          "output_type": "execute_result",
          "data": {
            "text/plain": [
              "   Parameter 1  Parameter 2  Parameter 3  Parameter 4  Parameter 5  \\\n",
              "0          7.4         0.70         0.00          1.9        0.076   \n",
              "1          7.8         0.88         0.00          2.6        0.098   \n",
              "2          7.8         0.76         0.04          2.3        0.092   \n",
              "3         11.2         0.28         0.56          1.9        0.075   \n",
              "4          7.4         0.70         0.00          1.9        0.076   \n",
              "\n",
              "   Parameter 6  Parameter 7  Parameter 8  Parameter 9  Parameter 10  \\\n",
              "0         11.0         34.0       0.9978         3.51          0.56   \n",
              "1         25.0         67.0       0.9968         3.20          0.68   \n",
              "2         15.0         54.0       0.9970         3.26          0.65   \n",
              "3         17.0         60.0       0.9980         3.16          0.58   \n",
              "4         11.0         34.0       0.9978         3.51          0.56   \n",
              "\n",
              "   Parameter 11  Signal_Strength  \n",
              "0           9.4                5  \n",
              "1           9.8                5  \n",
              "2           9.8                5  \n",
              "3           9.8                6  \n",
              "4           9.4                5  "
            ],
            "text/html": [
              "\n",
              "  <div id=\"df-228598e6-142f-45a4-b808-319e6e6e2597\">\n",
              "    <div class=\"colab-df-container\">\n",
              "      <div>\n",
              "<style scoped>\n",
              "    .dataframe tbody tr th:only-of-type {\n",
              "        vertical-align: middle;\n",
              "    }\n",
              "\n",
              "    .dataframe tbody tr th {\n",
              "        vertical-align: top;\n",
              "    }\n",
              "\n",
              "    .dataframe thead th {\n",
              "        text-align: right;\n",
              "    }\n",
              "</style>\n",
              "<table border=\"1\" class=\"dataframe\">\n",
              "  <thead>\n",
              "    <tr style=\"text-align: right;\">\n",
              "      <th></th>\n",
              "      <th>Parameter 1</th>\n",
              "      <th>Parameter 2</th>\n",
              "      <th>Parameter 3</th>\n",
              "      <th>Parameter 4</th>\n",
              "      <th>Parameter 5</th>\n",
              "      <th>Parameter 6</th>\n",
              "      <th>Parameter 7</th>\n",
              "      <th>Parameter 8</th>\n",
              "      <th>Parameter 9</th>\n",
              "      <th>Parameter 10</th>\n",
              "      <th>Parameter 11</th>\n",
              "      <th>Signal_Strength</th>\n",
              "    </tr>\n",
              "  </thead>\n",
              "  <tbody>\n",
              "    <tr>\n",
              "      <th>0</th>\n",
              "      <td>7.4</td>\n",
              "      <td>0.70</td>\n",
              "      <td>0.00</td>\n",
              "      <td>1.9</td>\n",
              "      <td>0.076</td>\n",
              "      <td>11.0</td>\n",
              "      <td>34.0</td>\n",
              "      <td>0.9978</td>\n",
              "      <td>3.51</td>\n",
              "      <td>0.56</td>\n",
              "      <td>9.4</td>\n",
              "      <td>5</td>\n",
              "    </tr>\n",
              "    <tr>\n",
              "      <th>1</th>\n",
              "      <td>7.8</td>\n",
              "      <td>0.88</td>\n",
              "      <td>0.00</td>\n",
              "      <td>2.6</td>\n",
              "      <td>0.098</td>\n",
              "      <td>25.0</td>\n",
              "      <td>67.0</td>\n",
              "      <td>0.9968</td>\n",
              "      <td>3.20</td>\n",
              "      <td>0.68</td>\n",
              "      <td>9.8</td>\n",
              "      <td>5</td>\n",
              "    </tr>\n",
              "    <tr>\n",
              "      <th>2</th>\n",
              "      <td>7.8</td>\n",
              "      <td>0.76</td>\n",
              "      <td>0.04</td>\n",
              "      <td>2.3</td>\n",
              "      <td>0.092</td>\n",
              "      <td>15.0</td>\n",
              "      <td>54.0</td>\n",
              "      <td>0.9970</td>\n",
              "      <td>3.26</td>\n",
              "      <td>0.65</td>\n",
              "      <td>9.8</td>\n",
              "      <td>5</td>\n",
              "    </tr>\n",
              "    <tr>\n",
              "      <th>3</th>\n",
              "      <td>11.2</td>\n",
              "      <td>0.28</td>\n",
              "      <td>0.56</td>\n",
              "      <td>1.9</td>\n",
              "      <td>0.075</td>\n",
              "      <td>17.0</td>\n",
              "      <td>60.0</td>\n",
              "      <td>0.9980</td>\n",
              "      <td>3.16</td>\n",
              "      <td>0.58</td>\n",
              "      <td>9.8</td>\n",
              "      <td>6</td>\n",
              "    </tr>\n",
              "    <tr>\n",
              "      <th>4</th>\n",
              "      <td>7.4</td>\n",
              "      <td>0.70</td>\n",
              "      <td>0.00</td>\n",
              "      <td>1.9</td>\n",
              "      <td>0.076</td>\n",
              "      <td>11.0</td>\n",
              "      <td>34.0</td>\n",
              "      <td>0.9978</td>\n",
              "      <td>3.51</td>\n",
              "      <td>0.56</td>\n",
              "      <td>9.4</td>\n",
              "      <td>5</td>\n",
              "    </tr>\n",
              "  </tbody>\n",
              "</table>\n",
              "</div>\n",
              "      <button class=\"colab-df-convert\" onclick=\"convertToInteractive('df-228598e6-142f-45a4-b808-319e6e6e2597')\"\n",
              "              title=\"Convert this dataframe to an interactive table.\"\n",
              "              style=\"display:none;\">\n",
              "        \n",
              "  <svg xmlns=\"http://www.w3.org/2000/svg\" height=\"24px\"viewBox=\"0 0 24 24\"\n",
              "       width=\"24px\">\n",
              "    <path d=\"M0 0h24v24H0V0z\" fill=\"none\"/>\n",
              "    <path d=\"M18.56 5.44l.94 2.06.94-2.06 2.06-.94-2.06-.94-.94-2.06-.94 2.06-2.06.94zm-11 1L8.5 8.5l.94-2.06 2.06-.94-2.06-.94L8.5 2.5l-.94 2.06-2.06.94zm10 10l.94 2.06.94-2.06 2.06-.94-2.06-.94-.94-2.06-.94 2.06-2.06.94z\"/><path d=\"M17.41 7.96l-1.37-1.37c-.4-.4-.92-.59-1.43-.59-.52 0-1.04.2-1.43.59L10.3 9.45l-7.72 7.72c-.78.78-.78 2.05 0 2.83L4 21.41c.39.39.9.59 1.41.59.51 0 1.02-.2 1.41-.59l7.78-7.78 2.81-2.81c.8-.78.8-2.07 0-2.86zM5.41 20L4 18.59l7.72-7.72 1.47 1.35L5.41 20z\"/>\n",
              "  </svg>\n",
              "      </button>\n",
              "      \n",
              "  <style>\n",
              "    .colab-df-container {\n",
              "      display:flex;\n",
              "      flex-wrap:wrap;\n",
              "      gap: 12px;\n",
              "    }\n",
              "\n",
              "    .colab-df-convert {\n",
              "      background-color: #E8F0FE;\n",
              "      border: none;\n",
              "      border-radius: 50%;\n",
              "      cursor: pointer;\n",
              "      display: none;\n",
              "      fill: #1967D2;\n",
              "      height: 32px;\n",
              "      padding: 0 0 0 0;\n",
              "      width: 32px;\n",
              "    }\n",
              "\n",
              "    .colab-df-convert:hover {\n",
              "      background-color: #E2EBFA;\n",
              "      box-shadow: 0px 1px 2px rgba(60, 64, 67, 0.3), 0px 1px 3px 1px rgba(60, 64, 67, 0.15);\n",
              "      fill: #174EA6;\n",
              "    }\n",
              "\n",
              "    [theme=dark] .colab-df-convert {\n",
              "      background-color: #3B4455;\n",
              "      fill: #D2E3FC;\n",
              "    }\n",
              "\n",
              "    [theme=dark] .colab-df-convert:hover {\n",
              "      background-color: #434B5C;\n",
              "      box-shadow: 0px 1px 3px 1px rgba(0, 0, 0, 0.15);\n",
              "      filter: drop-shadow(0px 1px 2px rgba(0, 0, 0, 0.3));\n",
              "      fill: #FFFFFF;\n",
              "    }\n",
              "  </style>\n",
              "\n",
              "      <script>\n",
              "        const buttonEl =\n",
              "          document.querySelector('#df-228598e6-142f-45a4-b808-319e6e6e2597 button.colab-df-convert');\n",
              "        buttonEl.style.display =\n",
              "          google.colab.kernel.accessAllowed ? 'block' : 'none';\n",
              "\n",
              "        async function convertToInteractive(key) {\n",
              "          const element = document.querySelector('#df-228598e6-142f-45a4-b808-319e6e6e2597');\n",
              "          const dataTable =\n",
              "            await google.colab.kernel.invokeFunction('convertToInteractive',\n",
              "                                                     [key], {});\n",
              "          if (!dataTable) return;\n",
              "\n",
              "          const docLinkHtml = 'Like what you see? Visit the ' +\n",
              "            '<a target=\"_blank\" href=https://colab.research.google.com/notebooks/data_table.ipynb>data table notebook</a>'\n",
              "            + ' to learn more about interactive tables.';\n",
              "          element.innerHTML = '';\n",
              "          dataTable['output_type'] = 'display_data';\n",
              "          await google.colab.output.renderOutput(dataTable, element);\n",
              "          const docLink = document.createElement('div');\n",
              "          docLink.innerHTML = docLinkHtml;\n",
              "          element.appendChild(docLink);\n",
              "        }\n",
              "      </script>\n",
              "    </div>\n",
              "  </div>\n",
              "  "
            ]
          },
          "metadata": {},
          "execution_count": 4
        }
      ],
      "source": [
        "data=pd.read_csv('/content/drive/MyDrive/Colab Notebooks/NN Project Data - Signal.csv')\n",
        "data.head()"
      ]
    },
    {
      "cell_type": "markdown",
      "metadata": {
        "id": "MmIwBeWrjBbN"
      },
      "source": [
        "#1.B. Check for missing values and print percentage for each attribute"
      ]
    },
    {
      "cell_type": "code",
      "execution_count": 5,
      "metadata": {
        "id": "0MgRzCwtfqes",
        "colab": {
          "base_uri": "https://localhost:8080/"
        },
        "outputId": "a97da4ed-0570-4b97-ae1d-6572632e12fd"
      },
      "outputs": [
        {
          "output_type": "execute_result",
          "data": {
            "text/plain": [
              "Parameter 1        0\n",
              "Parameter 2        0\n",
              "Parameter 3        0\n",
              "Parameter 4        0\n",
              "Parameter 5        0\n",
              "Parameter 6        0\n",
              "Parameter 7        0\n",
              "Parameter 8        0\n",
              "Parameter 9        0\n",
              "Parameter 10       0\n",
              "Parameter 11       0\n",
              "Signal_Strength    0\n",
              "dtype: int64"
            ]
          },
          "metadata": {},
          "execution_count": 5
        }
      ],
      "source": [
        "data.isnull().sum()"
      ]
    },
    {
      "cell_type": "code",
      "execution_count": 6,
      "metadata": {
        "id": "OIZARm-zfqhv",
        "colab": {
          "base_uri": "https://localhost:8080/"
        },
        "outputId": "e74b3656-1023-4cc3-ad26-5151a34eb688"
      },
      "outputs": [
        {
          "output_type": "execute_result",
          "data": {
            "text/plain": [
              "Parameter 1        0.0\n",
              "Parameter 2        0.0\n",
              "Parameter 3        0.0\n",
              "Parameter 4        0.0\n",
              "Parameter 5        0.0\n",
              "Parameter 6        0.0\n",
              "Parameter 7        0.0\n",
              "Parameter 8        0.0\n",
              "Parameter 9        0.0\n",
              "Parameter 10       0.0\n",
              "Parameter 11       0.0\n",
              "Signal_Strength    0.0\n",
              "dtype: float64"
            ]
          },
          "metadata": {},
          "execution_count": 6
        }
      ],
      "source": [
        "percent_missing = data.isnull().sum() * 100 / len(data)\n",
        "missing_value_df = pd.DataFrame({'column_name': data.columns,\n",
        "                                 'percent_missing': percent_missing})\n",
        "percent_missing "
      ]
    },
    {
      "cell_type": "markdown",
      "metadata": {
        "id": "IdaKA1OsknvV"
      },
      "source": [
        "#1.C. Check for presence of duplicate records in the dataset and impute with appropriate method. "
      ]
    },
    {
      "cell_type": "code",
      "execution_count": 7,
      "metadata": {
        "id": "Zs20RSmvkjlE",
        "colab": {
          "base_uri": "https://localhost:8080/"
        },
        "outputId": "428a5261-242c-4c3c-bd17-34fbf8765a62"
      },
      "outputs": [
        {
          "output_type": "execute_result",
          "data": {
            "text/plain": [
              "False    1359\n",
              "True      240\n",
              "dtype: int64"
            ]
          },
          "metadata": {},
          "execution_count": 7
        }
      ],
      "source": [
        "data.duplicated().value_counts()"
      ]
    },
    {
      "cell_type": "code",
      "execution_count": 8,
      "metadata": {
        "id": "G825aJxHzq3l"
      },
      "outputs": [],
      "source": [
        "data=data.drop_duplicates()"
      ]
    },
    {
      "cell_type": "markdown",
      "metadata": {
        "id": "S-9XXwiAmlDi"
      },
      "source": [
        "# 1.D. Visualise distribution of the target variable."
      ]
    },
    {
      "cell_type": "code",
      "execution_count": 9,
      "metadata": {
        "id": "Jgt8MtFjmutr",
        "colab": {
          "base_uri": "https://localhost:8080/",
          "height": 282
        },
        "outputId": "36df4517-36db-4a85-c686-f94d90af9040"
      },
      "outputs": [
        {
          "output_type": "display_data",
          "data": {
            "text/plain": [
              "<Figure size 432x288 with 1 Axes>"
            ],
            "image/png": "[encoded data removed]"
          },
          "metadata": {
            "needs_background": "light"
          }
        }
      ],
      "source": [
        "sns.histplot(data=data,x='Signal_Strength');"
      ]
    },
    {
      "cell_type": "code",
      "execution_count": 10,
      "metadata": {
        "id": "wwLhWnQloL3o",
        "colab": {
          "base_uri": "https://localhost:8080/",
          "height": 299
        },
        "outputId": "b35dbfcd-9d02-47cf-b84b-3dceb756acdb"
      },
      "outputs": [
        {
          "output_type": "display_data",
          "data": {
            "text/plain": [
              "<Figure size 432x288 with 1 Axes>"
            ],
            "image/png": "[encoded data removed]"
          },
          "metadata": {
            "needs_background": "light"
          }
        },
        {
          "output_type": "display_data",
          "data": {
            "text/plain": [
              "<Figure size 144x504 with 0 Axes>"
            ]
          },
          "metadata": {}
        }
      ],
      "source": [
        "sns.countplot(data=data,x='Signal_Strength')\n",
        "plt.figure(figsize=(2,7));"
      ]
    },
    {
      "cell_type": "code",
      "execution_count": 11,
      "metadata": {
        "id": "EeppJg08qwJu",
        "colab": {
          "base_uri": "https://localhost:8080/",
          "height": 320
        },
        "outputId": "d59d26ad-1c87-4683-9c6b-43387d73394a"
      },
      "outputs": [
        {
          "output_type": "stream",
          "name": "stderr",
          "text": [
            "/usr/local/lib/python3.8/dist-packages/seaborn/distributions.py:2619: FutureWarning: `distplot` is a deprecated function and will be removed in a future version. Please adapt your code to use either `displot` (a figure-level function with similar flexibility) or `histplot` (an axes-level function for histograms).\n",
            "  warnings.warn(msg, FutureWarning)\n"
          ]
        },
        {
          "output_type": "display_data",
          "data": {
            "text/plain": [
              "<Figure size 432x288 with 1 Axes>"
            ],
            "image/png": "[encoded data removed]"
          },
          "metadata": {
            "needs_background": "light"
          }
        }
      ],
      "source": [
        "sns.distplot(data);"
      ]
    },
    {
      "cell_type": "markdown",
      "metadata": {
        "id": "xZ0nuGTxt5Ux"
      },
      "source": [
        "## E. Share insights from the initial data analysis (at least 2)"
      ]
    },
    {
      "cell_type": "markdown",
      "source": [
        "- Signal strength of 5 has the highest count compared with other parameters.\n",
        "- The highest density is more tham 0.10."
      ],
      "metadata": {
        "id": "X4fhqyzaXDME"
      }
    },
    {
      "cell_type": "markdown",
      "metadata": {
        "id": "y8L0WUSpxsEq"
      },
      "source": [
        "# **2. Data preprocessing**"
      ]
    },
    {
      "cell_type": "markdown",
      "metadata": {
        "id": "2Z3D89JUyFK1"
      },
      "source": [
        "# 2.A. Split the data into X & Y"
      ]
    },
    {
      "cell_type": "code",
      "execution_count": 12,
      "metadata": {
        "id": "8llECw9n0nmR"
      },
      "outputs": [],
      "source": [
        "X = data.drop(labels='Signal_Strength',axis=1)\n",
        "y = data['Signal_Strength']"
      ]
    },
    {
      "cell_type": "markdown",
      "metadata": {
        "id": "NtHjGPeh1BXM"
      },
      "source": [
        "# 2.B. Split the data into train & test with 70:30 proportion"
      ]
    },
    {
      "cell_type": "code",
      "execution_count": 13,
      "metadata": {
        "id": "YWHF8IIY9iv8"
      },
      "outputs": [],
      "source": [
        "X_train,X_test,y_train,y_test=train_test_split(X,y,test_size=0.3)"
      ]
    },
    {
      "cell_type": "markdown",
      "metadata": {
        "id": "2Yy5x-Iw2SVM"
      },
      "source": [
        "# 2.C. Print shape of all the 4 variables and verify if train and test data is in sync"
      ]
    },
    {
      "cell_type": "code",
      "execution_count": 14,
      "metadata": {
        "id": "O7x-DTEW2Uiw",
        "colab": {
          "base_uri": "https://localhost:8080/"
        },
        "outputId": "5cd97254-eb34-44df-88da-7d71989f66ea"
      },
      "outputs": [
        {
          "output_type": "execute_result",
          "data": {
            "text/plain": [
              "(951, 11)"
            ]
          },
          "metadata": {},
          "execution_count": 14
        }
      ],
      "source": [
        "X_train.shape"
      ]
    },
    {
      "cell_type": "code",
      "execution_count": 15,
      "metadata": {
        "id": "WO6LGeSE2XZt",
        "colab": {
          "base_uri": "https://localhost:8080/"
        },
        "outputId": "639bfc01-7731-48fd-8043-5796c2ec8280"
      },
      "outputs": [
        {
          "output_type": "execute_result",
          "data": {
            "text/plain": [
              "(408, 11)"
            ]
          },
          "metadata": {},
          "execution_count": 15
        }
      ],
      "source": [
        "X_test.shape"
      ]
    },
    {
      "cell_type": "code",
      "execution_count": 16,
      "metadata": {
        "id": "INtu86ul2XdZ",
        "colab": {
          "base_uri": "https://localhost:8080/"
        },
        "outputId": "fa9098ae-405a-4633-f7db-c02f6f82035d"
      },
      "outputs": [
        {
          "output_type": "execute_result",
          "data": {
            "text/plain": [
              "(951,)"
            ]
          },
          "metadata": {},
          "execution_count": 16
        }
      ],
      "source": [
        "y_train.shape"
      ]
    },
    {
      "cell_type": "code",
      "execution_count": 17,
      "metadata": {
        "id": "0Mvozddo2XpF",
        "colab": {
          "base_uri": "https://localhost:8080/"
        },
        "outputId": "577fefca-4ac0-4427-98ed-8cc92aa04bb1"
      },
      "outputs": [
        {
          "output_type": "execute_result",
          "data": {
            "text/plain": [
              "(408,)"
            ]
          },
          "metadata": {},
          "execution_count": 17
        }
      ],
      "source": [
        "y_test.shape"
      ]
    },
    {
      "cell_type": "markdown",
      "metadata": {
        "id": "7Te-MgMT2lKU"
      },
      "source": [
        "# 2.D. Normalise the train and test data with appropriate method."
      ]
    },
    {
      "cell_type": "code",
      "execution_count": 18,
      "metadata": {
        "id": "QHeI37q2kwSv"
      },
      "outputs": [],
      "source": [
        "min_max_scaler = preprocessing.MinMaxScaler()\n",
        "X_scale = min_max_scaler.fit_transform(X)"
      ]
    },
    {
      "cell_type": "code",
      "execution_count": 19,
      "metadata": {
        "id": "B_wKc0tE2oVy",
        "colab": {
          "base_uri": "https://localhost:8080/"
        },
        "outputId": "22d63a67-a470-4a1c-8c73-4f1b56e1cc55"
      },
      "outputs": [
        {
          "output_type": "execute_result",
          "data": {
            "text/plain": [
              "array([[0.2955644 , 0.02676056, 0.00479294, ..., 0.13540045, 0.02156821,\n",
              "        0.37944078],\n",
              "       [0.17110101, 0.01145507, 0.00377002, ..., 0.10498062, 0.01943011,\n",
              "        0.35960212],\n",
              "       [0.10265204, 0.00946009, 0.00040256, ..., 0.07849862, 0.01247927,\n",
              "        0.25763649],\n",
              "       ...,\n",
              "       [0.18498464, 0.00416867, 0.01146384, ..., 0.08728149, 0.01406925,\n",
              "        0.32307177],\n",
              "       [0.18384492, 0.00814503, 0.01070489, ..., 0.07795955, 0.0200135 ,\n",
              "        0.29787531],\n",
              "       [0.18716307, 0.01391077, 0.00480554, ..., 0.08827015, 0.01719877,\n",
              "        0.26556921]])"
            ]
          },
          "metadata": {},
          "execution_count": 19
        }
      ],
      "source": [
        "normalizer = preprocessing.Normalizer()\n",
        "normalized_train_X = normalizer.fit_transform(X_train)\n",
        "normalized_train_X"
      ]
    },
    {
      "cell_type": "code",
      "execution_count": 20,
      "metadata": {
        "id": "TP13Plc2lcqR",
        "colab": {
          "base_uri": "https://localhost:8080/"
        },
        "outputId": "7d4f3f99-c509-4ef6-da83-09dea0a31eef"
      },
      "outputs": [
        {
          "output_type": "execute_result",
          "data": {
            "text/plain": [
              "array([[4.67493826e-01, 1.65275595e-02, 2.59718792e-02, ...,\n",
              "        1.53942411e-01, 3.73050628e-02, 5.00548944e-01],\n",
              "       [2.37615933e-01, 2.56451342e-02, 5.79551055e-03, ...,\n",
              "        9.01201890e-02, 1.33296743e-02, 2.89775527e-01],\n",
              "       [2.57478204e-01, 6.74942864e-03, 5.99949212e-03, ...,\n",
              "        8.04931860e-02, 1.64986033e-02, 3.19972913e-01],\n",
              "       ...,\n",
              "       [9.12886029e-02, 4.83292604e-03, 3.31144932e-03, ...,\n",
              "        2.84605644e-02, 6.89139453e-03, 8.05487673e-02],\n",
              "       [7.25547328e-02, 6.02919610e-03, 2.04379529e-04, ...,\n",
              "        3.62773664e-02, 5.41605752e-03, 9.91240715e-02],\n",
              "       [1.73845850e-01, 1.15114144e-02, 4.46360965e-03, ...,\n",
              "        7.91703396e-02, 1.19812680e-02, 2.46673165e-01]])"
            ]
          },
          "metadata": {},
          "execution_count": 20
        }
      ],
      "source": [
        "normalizer = preprocessing.Normalizer()\n",
        "normalized_test_X = normalizer.fit_transform(X_test)\n",
        "normalized_test_X"
      ]
    },
    {
      "cell_type": "markdown",
      "metadata": {
        "id": "BoWHkQIO3Xi0"
      },
      "source": [
        "# E. Transform Labels into format acceptable by Neural Network"
      ]
    },
    {
      "cell_type": "code",
      "execution_count": 21,
      "metadata": {
        "id": "LZCFRGOIhGQm",
        "colab": {
          "base_uri": "https://localhost:8080/"
        },
        "outputId": "625eaae4-e088-4bc9-8230-21ee8b65916a"
      },
      "outputs": [
        {
          "output_type": "stream",
          "name": "stdout",
          "text": [
            "Sample value before one hot encode 5\n",
            "\n",
            "Sample value after one hot encode [0. 0. 0. 0. 0. 1. 0. 0. 0. 0.]\n"
          ]
        }
      ],
      "source": [
        "print(f'Sample value before one hot encode {y_train[0]}\\n')\n",
        "y_train = tf.keras.utils.to_categorical(y_train,num_classes=10)\n",
        "y_test= tf.keras.utils.to_categorical(y_test, num_classes=10)\n",
        "print(f'Sample value after one hot encode {y_train[0]}')"
      ]
    },
    {
      "cell_type": "markdown",
      "metadata": {
        "id": "bADCcJNmUhJY"
      },
      "source": [
        "# **3. Model Training & Evaluation using Neural Network**"
      ]
    },
    {
      "cell_type": "markdown",
      "metadata": {
        "id": "75Dg37UhUqDO"
      },
      "source": [
        "# A. Design a Neural Network to train a classifier."
      ]
    },
    {
      "cell_type": "code",
      "execution_count": 22,
      "metadata": {
        "id": "XtIcoNnwyZw5"
      },
      "outputs": [],
      "source": [
        "from keras.models import Sequential\n",
        "from keras.layers import Dense\n",
        "from tensorflow.keras.models import Sequential\n",
        "from tensorflow.keras.layers import Dense, Dropout, BatchNormalization,LeakyReLU\n",
        "from sklearn.metrics import accuracy_score, confusion_matrix, precision_score, recall_score, f1_score, precision_recall_curve, auc\n",
        "import matplotlib.pyplot as plt\n",
        "from tensorflow.keras import optimizers"
      ]
    },
    {
      "cell_type": "markdown",
      "metadata": {
        "id": "KqFXAq9yVrgS"
      },
      "source": [
        "# B. Train the classifier using previously designed Architecture "
      ]
    },
    {
      "cell_type": "code",
      "source": [
        "from sklearn.preprocessing import StandardScaler\n",
        "\n",
        "# Scaling training data\n",
        "X_Train_S = StandardScaler().fit_transform(X_train)   \n",
        "\n",
        "# Scaling testing data\n",
        "X_Test_S = StandardScaler().fit_transform(X_test)   "
      ],
      "metadata": {
        "id": "JtZ8XWSq6kzD"
      },
      "execution_count": 23,
      "outputs": []
    },
    {
      "cell_type": "code",
      "execution_count": 24,
      "metadata": {
        "id": "I_OIO7WSVkvp",
        "colab": {
          "base_uri": "https://localhost:8080/"
        },
        "outputId": "1c9c1d20-29cd-4375-f14c-23b4e63c1a4c"
      },
      "outputs": [
        {
          "output_type": "stream",
          "name": "stdout",
          "text": [
            "Model: \"sequential\"\n",
            "_________________________________________________________________\n",
            " Layer (type)                Output Shape              Param #   \n",
            "=================================================================\n",
            " dense (Dense)               (None, 128)               1536      \n",
            "                                                                 \n",
            " dense_1 (Dense)             (None, 64)                8256      \n",
            "                                                                 \n",
            " dense_2 (Dense)             (None, 32)                2080      \n",
            "                                                                 \n",
            " leaky_re_lu (LeakyReLU)     (None, 32)                0         \n",
            "                                                                 \n",
            " dense_3 (Dense)             (None, 16)                528       \n",
            "                                                                 \n",
            " leaky_re_lu_1 (LeakyReLU)   (None, 16)                0         \n",
            "                                                                 \n",
            " dense_4 (Dense)             (None, 1)                 17        \n",
            "                                                                 \n",
            " leaky_re_lu_2 (LeakyReLU)   (None, 1)                 0         \n",
            "                                                                 \n",
            "=================================================================\n",
            "Total params: 12,417\n",
            "Trainable params: 12,417\n",
            "Non-trainable params: 0\n",
            "_________________________________________________________________\n"
          ]
        }
      ],
      "source": [
        "NN_model_Regressor = Sequential()\n",
        "\n",
        "# The Input Layer :\n",
        "NN_model_Regressor.add(Dense(128, kernel_initializer='normal',input_dim = X_train.shape[1], activation='relu'))\n",
        "\n",
        "# The Hidden Layers :\n",
        "NN_model_Regressor.add(Dense(64, kernel_initializer='normal',activation='relu'))  # sigmoid, tanh\n",
        "\n",
        "NN_model_Regressor.add(Dense(32, kernel_initializer='normal'))\n",
        "NN_model_Regressor.add(LeakyReLU(alpha=0.1))\n",
        "\n",
        "NN_model_Regressor.add(Dense(16, kernel_initializer='normal'))\n",
        "NN_model_Regressor.add(LeakyReLU(alpha=0.1))\n",
        "\n",
        "\n",
        "# The Output Layer :\n",
        "NN_model_Regressor.add(Dense(1, kernel_initializer='normal'))\n",
        "NN_model_Regressor.add(LeakyReLU(alpha=0.1))\n",
        "\n",
        "# Compile the network :\n",
        "NN_model_Regressor.compile(loss='mean_absolute_error', optimizer='adam', metrics=['accuracy'])\n",
        "NN_model_Regressor.summary()"
      ]
    },
    {
      "cell_type": "code",
      "execution_count": 25,
      "metadata": {
        "id": "QFhdUqHXVu0Z",
        "colab": {
          "base_uri": "https://localhost:8080/"
        },
        "outputId": "d0253fee-5588-4a26-8c17-d90fe2eceece"
      },
      "outputs": [
        {
          "output_type": "stream",
          "name": "stdout",
          "text": [
            "Epoch 1/200\n",
            "5/5 [==============================] - 6s 72ms/step - loss: 0.1002 - accuracy: 0.9000 - val_loss: 0.1001 - val_accuracy: 0.9000\n",
            "Epoch 2/200\n",
            "5/5 [==============================] - 0s 18ms/step - loss: 0.1001 - accuracy: 0.9000 - val_loss: 0.1000 - val_accuracy: 0.9000\n",
            "Epoch 3/200\n",
            "5/5 [==============================] - 0s 20ms/step - loss: 0.1000 - accuracy: 0.9000 - val_loss: 0.1000 - val_accuracy: 0.9000\n",
            "Epoch 4/200\n",
            "5/5 [==============================] - 0s 18ms/step - loss: 0.1000 - accuracy: 0.9000 - val_loss: 0.1001 - val_accuracy: 0.9000\n",
            "Epoch 5/200\n",
            "5/5 [==============================] - 0s 20ms/step - loss: 0.1001 - accuracy: 0.9000 - val_loss: 0.1001 - val_accuracy: 0.9000\n",
            "Epoch 6/200\n",
            "5/5 [==============================] - 0s 19ms/step - loss: 0.1000 - accuracy: 0.9000 - val_loss: 0.1000 - val_accuracy: 0.9000\n",
            "Epoch 7/200\n",
            "5/5 [==============================] - 0s 17ms/step - loss: 0.1000 - accuracy: 0.9000 - val_loss: 0.1000 - val_accuracy: 0.9000\n",
            "Epoch 8/200\n",
            "5/5 [==============================] - 0s 17ms/step - loss: 0.1000 - accuracy: 0.9000 - val_loss: 0.1000 - val_accuracy: 0.9000\n",
            "Epoch 9/200\n",
            "5/5 [==============================] - 0s 21ms/step - loss: 0.1000 - accuracy: 0.9000 - val_loss: 0.1000 - val_accuracy: 0.9000\n",
            "Epoch 10/200\n",
            "5/5 [==============================] - 0s 16ms/step - loss: 0.1001 - accuracy: 0.9000 - val_loss: 0.1001 - val_accuracy: 0.9000\n",
            "Epoch 11/200\n",
            "5/5 [==============================] - 0s 20ms/step - loss: 0.1001 - accuracy: 0.9000 - val_loss: 0.1000 - val_accuracy: 0.9000\n",
            "Epoch 12/200\n",
            "5/5 [==============================] - 0s 18ms/step - loss: 0.1000 - accuracy: 0.9000 - val_loss: 0.1000 - val_accuracy: 0.9000\n",
            "Epoch 13/200\n",
            "5/5 [==============================] - 0s 18ms/step - loss: 0.1000 - accuracy: 0.9000 - val_loss: 0.1000 - val_accuracy: 0.9000\n",
            "Epoch 14/200\n",
            "5/5 [==============================] - 0s 18ms/step - loss: 0.1000 - accuracy: 0.9000 - val_loss: 0.1000 - val_accuracy: 0.9000\n",
            "Epoch 15/200\n",
            "5/5 [==============================] - 0s 20ms/step - loss: 0.1000 - accuracy: 0.9000 - val_loss: 0.1000 - val_accuracy: 0.9000\n",
            "Epoch 16/200\n",
            "5/5 [==============================] - 0s 15ms/step - loss: 0.1000 - accuracy: 0.9000 - val_loss: 0.1000 - val_accuracy: 0.9000\n",
            "Epoch 17/200\n",
            "5/5 [==============================] - 0s 14ms/step - loss: 0.1000 - accuracy: 0.9000 - val_loss: 0.1000 - val_accuracy: 0.9000\n",
            "Epoch 18/200\n",
            "5/5 [==============================] - 0s 15ms/step - loss: 0.1001 - accuracy: 0.9000 - val_loss: 0.1001 - val_accuracy: 0.9000\n",
            "Epoch 19/200\n",
            "5/5 [==============================] - 0s 15ms/step - loss: 0.1000 - accuracy: 0.9000 - val_loss: 0.1000 - val_accuracy: 0.9000\n",
            "Epoch 20/200\n",
            "5/5 [==============================] - 0s 11ms/step - loss: 0.1000 - accuracy: 0.9000 - val_loss: 0.1000 - val_accuracy: 0.9000\n",
            "Epoch 21/200\n",
            "5/5 [==============================] - 0s 11ms/step - loss: 0.1000 - accuracy: 0.9000 - val_loss: 0.1000 - val_accuracy: 0.9000\n",
            "Epoch 22/200\n",
            "5/5 [==============================] - 0s 17ms/step - loss: 0.1000 - accuracy: 0.9000 - val_loss: 0.1000 - val_accuracy: 0.9000\n",
            "Epoch 23/200\n",
            "5/5 [==============================] - 0s 11ms/step - loss: 0.1000 - accuracy: 0.9000 - val_loss: 0.1001 - val_accuracy: 0.9000\n",
            "Epoch 24/200\n",
            "5/5 [==============================] - 0s 11ms/step - loss: 0.1000 - accuracy: 0.9000 - val_loss: 0.1000 - val_accuracy: 0.9000\n",
            "Epoch 25/200\n",
            "5/5 [==============================] - 0s 11ms/step - loss: 0.1000 - accuracy: 0.9000 - val_loss: 0.1000 - val_accuracy: 0.9000\n",
            "Epoch 26/200\n",
            "5/5 [==============================] - 0s 15ms/step - loss: 0.1000 - accuracy: 0.9000 - val_loss: 0.1001 - val_accuracy: 0.9000\n",
            "Epoch 27/200\n",
            "5/5 [==============================] - 0s 11ms/step - loss: 0.1000 - accuracy: 0.9000 - val_loss: 0.1001 - val_accuracy: 0.9000\n",
            "Epoch 28/200\n",
            "5/5 [==============================] - 0s 11ms/step - loss: 0.1000 - accuracy: 0.9000 - val_loss: 0.1000 - val_accuracy: 0.9000\n",
            "Epoch 29/200\n",
            "5/5 [==============================] - 0s 14ms/step - loss: 0.1000 - accuracy: 0.9000 - val_loss: 0.1000 - val_accuracy: 0.9000\n",
            "Epoch 30/200\n",
            "5/5 [==============================] - 0s 15ms/step - loss: 0.1000 - accuracy: 0.9000 - val_loss: 0.1000 - val_accuracy: 0.9000\n",
            "Epoch 31/200\n",
            "5/5 [==============================] - 0s 12ms/step - loss: 0.1000 - accuracy: 0.9000 - val_loss: 0.1000 - val_accuracy: 0.9000\n",
            "Epoch 32/200\n",
            "5/5 [==============================] - 0s 15ms/step - loss: 0.1000 - accuracy: 0.9000 - val_loss: 0.1000 - val_accuracy: 0.9000\n",
            "Epoch 33/200\n",
            "5/5 [==============================] - 0s 14ms/step - loss: 0.1000 - accuracy: 0.9000 - val_loss: 0.1000 - val_accuracy: 0.9000\n",
            "Epoch 34/200\n",
            "5/5 [==============================] - 0s 15ms/step - loss: 0.1000 - accuracy: 0.9000 - val_loss: 0.1000 - val_accuracy: 0.9000\n",
            "Epoch 35/200\n",
            "5/5 [==============================] - 0s 14ms/step - loss: 0.1000 - accuracy: 0.9000 - val_loss: 0.1000 - val_accuracy: 0.9000\n",
            "Epoch 36/200\n",
            "5/5 [==============================] - 0s 14ms/step - loss: 0.1000 - accuracy: 0.9000 - val_loss: 0.1000 - val_accuracy: 0.9000\n",
            "Epoch 37/200\n",
            "5/5 [==============================] - 0s 11ms/step - loss: 0.1000 - accuracy: 0.9000 - val_loss: 0.1000 - val_accuracy: 0.9000\n",
            "Epoch 38/200\n",
            "5/5 [==============================] - 0s 11ms/step - loss: 0.1000 - accuracy: 0.9000 - val_loss: 0.1000 - val_accuracy: 0.9000\n",
            "Epoch 39/200\n",
            "5/5 [==============================] - 0s 13ms/step - loss: 0.1000 - accuracy: 0.9000 - val_loss: 0.1000 - val_accuracy: 0.9000\n",
            "Epoch 40/200\n",
            "5/5 [==============================] - 0s 11ms/step - loss: 0.1001 - accuracy: 0.9000 - val_loss: 0.1000 - val_accuracy: 0.9000\n",
            "Epoch 41/200\n",
            "5/5 [==============================] - 0s 11ms/step - loss: 0.1000 - accuracy: 0.9000 - val_loss: 0.1000 - val_accuracy: 0.9000\n",
            "Epoch 42/200\n",
            "5/5 [==============================] - 0s 16ms/step - loss: 0.1000 - accuracy: 0.9000 - val_loss: 0.1000 - val_accuracy: 0.9000\n",
            "Epoch 43/200\n",
            "5/5 [==============================] - 0s 16ms/step - loss: 0.1000 - accuracy: 0.9000 - val_loss: 0.1000 - val_accuracy: 0.9000\n",
            "Epoch 44/200\n",
            "5/5 [==============================] - 0s 12ms/step - loss: 0.1000 - accuracy: 0.9000 - val_loss: 0.1000 - val_accuracy: 0.9000\n",
            "Epoch 45/200\n",
            "5/5 [==============================] - 0s 12ms/step - loss: 0.1000 - accuracy: 0.9000 - val_loss: 0.1000 - val_accuracy: 0.9000\n",
            "Epoch 46/200\n",
            "5/5 [==============================] - 0s 15ms/step - loss: 0.1000 - accuracy: 0.9000 - val_loss: 0.1000 - val_accuracy: 0.9000\n",
            "Epoch 47/200\n",
            "5/5 [==============================] - 0s 14ms/step - loss: 0.1000 - accuracy: 0.9000 - val_loss: 0.1000 - val_accuracy: 0.9000\n",
            "Epoch 48/200\n",
            "5/5 [==============================] - 0s 13ms/step - loss: 0.1000 - accuracy: 0.9000 - val_loss: 0.1001 - val_accuracy: 0.9000\n",
            "Epoch 49/200\n",
            "5/5 [==============================] - 0s 14ms/step - loss: 0.1000 - accuracy: 0.9000 - val_loss: 0.1000 - val_accuracy: 0.9000\n",
            "Epoch 50/200\n",
            "5/5 [==============================] - 0s 14ms/step - loss: 0.1000 - accuracy: 0.9000 - val_loss: 0.1000 - val_accuracy: 0.9000\n",
            "Epoch 51/200\n",
            "5/5 [==============================] - 0s 11ms/step - loss: 0.1000 - accuracy: 0.9000 - val_loss: 0.1000 - val_accuracy: 0.9000\n",
            "Epoch 52/200\n",
            "5/5 [==============================] - 0s 14ms/step - loss: 0.1000 - accuracy: 0.9000 - val_loss: 0.1000 - val_accuracy: 0.9000\n",
            "Epoch 53/200\n",
            "5/5 [==============================] - 0s 14ms/step - loss: 0.1000 - accuracy: 0.9000 - val_loss: 0.1000 - val_accuracy: 0.9000\n",
            "Epoch 54/200\n",
            "5/5 [==============================] - 0s 10ms/step - loss: 0.1000 - accuracy: 0.9000 - val_loss: 0.1000 - val_accuracy: 0.9000\n",
            "Epoch 55/200\n",
            "5/5 [==============================] - 0s 11ms/step - loss: 0.1000 - accuracy: 0.9000 - val_loss: 0.1000 - val_accuracy: 0.9000\n",
            "Epoch 56/200\n",
            "5/5 [==============================] - 0s 11ms/step - loss: 0.1000 - accuracy: 0.9000 - val_loss: 0.1000 - val_accuracy: 0.9000\n",
            "Epoch 57/200\n",
            "5/5 [==============================] - 0s 14ms/step - loss: 0.1000 - accuracy: 0.9000 - val_loss: 0.1001 - val_accuracy: 0.9000\n",
            "Epoch 58/200\n",
            "5/5 [==============================] - 0s 10ms/step - loss: 0.1000 - accuracy: 0.9000 - val_loss: 0.1000 - val_accuracy: 0.9000\n",
            "Epoch 59/200\n",
            "5/5 [==============================] - 0s 11ms/step - loss: 0.1000 - accuracy: 0.9000 - val_loss: 0.1000 - val_accuracy: 0.9000\n",
            "Epoch 60/200\n",
            "5/5 [==============================] - 0s 11ms/step - loss: 0.1000 - accuracy: 0.9000 - val_loss: 0.1000 - val_accuracy: 0.9000\n",
            "Epoch 61/200\n",
            "5/5 [==============================] - 0s 14ms/step - loss: 0.1000 - accuracy: 0.9000 - val_loss: 0.1000 - val_accuracy: 0.9000\n",
            "Epoch 62/200\n",
            "5/5 [==============================] - 0s 11ms/step - loss: 0.1000 - accuracy: 0.9000 - val_loss: 0.1000 - val_accuracy: 0.9000\n",
            "Epoch 63/200\n",
            "5/5 [==============================] - 0s 11ms/step - loss: 0.1000 - accuracy: 0.9000 - val_loss: 0.1000 - val_accuracy: 0.9000\n",
            "Epoch 64/200\n",
            "5/5 [==============================] - 0s 11ms/step - loss: 0.1000 - accuracy: 0.9000 - val_loss: 0.1000 - val_accuracy: 0.9000\n",
            "Epoch 65/200\n",
            "5/5 [==============================] - 0s 15ms/step - loss: 0.1000 - accuracy: 0.9000 - val_loss: 0.1000 - val_accuracy: 0.9000\n",
            "Epoch 66/200\n",
            "5/5 [==============================] - 0s 11ms/step - loss: 0.1000 - accuracy: 0.9000 - val_loss: 0.1000 - val_accuracy: 0.9000\n",
            "Epoch 67/200\n",
            "5/5 [==============================] - 0s 11ms/step - loss: 0.1000 - accuracy: 0.9000 - val_loss: 0.1000 - val_accuracy: 0.9000\n",
            "Epoch 68/200\n",
            "5/5 [==============================] - 0s 14ms/step - loss: 0.1000 - accuracy: 0.9000 - val_loss: 0.1000 - val_accuracy: 0.9000\n",
            "Epoch 69/200\n",
            "5/5 [==============================] - 0s 15ms/step - loss: 0.1000 - accuracy: 0.9000 - val_loss: 0.1000 - val_accuracy: 0.9000\n",
            "Epoch 70/200\n",
            "5/5 [==============================] - 0s 11ms/step - loss: 0.1000 - accuracy: 0.9000 - val_loss: 0.1000 - val_accuracy: 0.9000\n",
            "Epoch 71/200\n",
            "5/5 [==============================] - 0s 12ms/step - loss: 0.1000 - accuracy: 0.9000 - val_loss: 0.1000 - val_accuracy: 0.9000\n",
            "Epoch 72/200\n",
            "5/5 [==============================] - 0s 11ms/step - loss: 0.1000 - accuracy: 0.9000 - val_loss: 0.1000 - val_accuracy: 0.9000\n",
            "Epoch 73/200\n",
            "5/5 [==============================] - 0s 11ms/step - loss: 0.1000 - accuracy: 0.9000 - val_loss: 0.1000 - val_accuracy: 0.9000\n",
            "Epoch 74/200\n",
            "5/5 [==============================] - 0s 14ms/step - loss: 0.1000 - accuracy: 0.9000 - val_loss: 0.1000 - val_accuracy: 0.9000\n",
            "Epoch 75/200\n",
            "5/5 [==============================] - 0s 15ms/step - loss: 0.1000 - accuracy: 0.9000 - val_loss: 0.1001 - val_accuracy: 0.9000\n",
            "Epoch 76/200\n",
            "5/5 [==============================] - 0s 13ms/step - loss: 0.1000 - accuracy: 0.9000 - val_loss: 0.1000 - val_accuracy: 0.9000\n",
            "Epoch 77/200\n",
            "5/5 [==============================] - 0s 14ms/step - loss: 0.1000 - accuracy: 0.9000 - val_loss: 0.1000 - val_accuracy: 0.9000\n",
            "Epoch 78/200\n",
            "5/5 [==============================] - 0s 14ms/step - loss: 0.1000 - accuracy: 0.9000 - val_loss: 0.1000 - val_accuracy: 0.9000\n",
            "Epoch 79/200\n",
            "5/5 [==============================] - 0s 12ms/step - loss: 0.1000 - accuracy: 0.9000 - val_loss: 0.1000 - val_accuracy: 0.9000\n",
            "Epoch 80/200\n",
            "5/5 [==============================] - 0s 12ms/step - loss: 0.1000 - accuracy: 0.9000 - val_loss: 0.1000 - val_accuracy: 0.9000\n",
            "Epoch 81/200\n",
            "5/5 [==============================] - 0s 16ms/step - loss: 0.1000 - accuracy: 0.9000 - val_loss: 0.1000 - val_accuracy: 0.9000\n",
            "Epoch 82/200\n",
            "5/5 [==============================] - 0s 14ms/step - loss: 0.1000 - accuracy: 0.9000 - val_loss: 0.1000 - val_accuracy: 0.9000\n",
            "Epoch 83/200\n",
            "5/5 [==============================] - 0s 11ms/step - loss: 0.1000 - accuracy: 0.9000 - val_loss: 0.1000 - val_accuracy: 0.9000\n",
            "Epoch 84/200\n",
            "5/5 [==============================] - 0s 14ms/step - loss: 0.1000 - accuracy: 0.9000 - val_loss: 0.1001 - val_accuracy: 0.9000\n",
            "Epoch 85/200\n",
            "5/5 [==============================] - 0s 10ms/step - loss: 0.1000 - accuracy: 0.9000 - val_loss: 0.1000 - val_accuracy: 0.9000\n",
            "Epoch 86/200\n",
            "5/5 [==============================] - 0s 15ms/step - loss: 0.1000 - accuracy: 0.9000 - val_loss: 0.1000 - val_accuracy: 0.9000\n",
            "Epoch 87/200\n",
            "5/5 [==============================] - 0s 11ms/step - loss: 0.1000 - accuracy: 0.9000 - val_loss: 0.1000 - val_accuracy: 0.9000\n",
            "Epoch 88/200\n",
            "5/5 [==============================] - 0s 11ms/step - loss: 0.1000 - accuracy: 0.9000 - val_loss: 0.1000 - val_accuracy: 0.9000\n",
            "Epoch 89/200\n",
            "5/5 [==============================] - 0s 11ms/step - loss: 0.1000 - accuracy: 0.9000 - val_loss: 0.1000 - val_accuracy: 0.9000\n",
            "Epoch 90/200\n",
            "5/5 [==============================] - 0s 15ms/step - loss: 0.1000 - accuracy: 0.9000 - val_loss: 0.1000 - val_accuracy: 0.9000\n",
            "Epoch 91/200\n",
            "5/5 [==============================] - 0s 15ms/step - loss: 0.1000 - accuracy: 0.9000 - val_loss: 0.1000 - val_accuracy: 0.9000\n",
            "Epoch 92/200\n",
            "5/5 [==============================] - 0s 12ms/step - loss: 0.1000 - accuracy: 0.9000 - val_loss: 0.1000 - val_accuracy: 0.9000\n",
            "Epoch 93/200\n",
            "5/5 [==============================] - 0s 15ms/step - loss: 0.1000 - accuracy: 0.9000 - val_loss: 0.1000 - val_accuracy: 0.9000\n",
            "Epoch 94/200\n",
            "5/5 [==============================] - 0s 12ms/step - loss: 0.1000 - accuracy: 0.9000 - val_loss: 0.1000 - val_accuracy: 0.9000\n",
            "Epoch 95/200\n",
            "5/5 [==============================] - 0s 15ms/step - loss: 0.1000 - accuracy: 0.9000 - val_loss: 0.1000 - val_accuracy: 0.9000\n",
            "Epoch 96/200\n",
            "5/5 [==============================] - 0s 11ms/step - loss: 0.1000 - accuracy: 0.9000 - val_loss: 0.1000 - val_accuracy: 0.9000\n",
            "Epoch 97/200\n",
            "5/5 [==============================] - 0s 12ms/step - loss: 0.1000 - accuracy: 0.9000 - val_loss: 0.1000 - val_accuracy: 0.9000\n",
            "Epoch 98/200\n",
            "5/5 [==============================] - 0s 11ms/step - loss: 0.1000 - accuracy: 0.9000 - val_loss: 0.1000 - val_accuracy: 0.9000\n",
            "Epoch 99/200\n",
            "5/5 [==============================] - 0s 11ms/step - loss: 0.1000 - accuracy: 0.9000 - val_loss: 0.1000 - val_accuracy: 0.9000\n",
            "Epoch 100/200\n",
            "5/5 [==============================] - 0s 15ms/step - loss: 0.1000 - accuracy: 0.9000 - val_loss: 0.1000 - val_accuracy: 0.9000\n",
            "Epoch 101/200\n",
            "5/5 [==============================] - 0s 13ms/step - loss: 0.1000 - accuracy: 0.9000 - val_loss: 0.1000 - val_accuracy: 0.9000\n",
            "Epoch 102/200\n",
            "5/5 [==============================] - 0s 18ms/step - loss: 0.1000 - accuracy: 0.9000 - val_loss: 0.1000 - val_accuracy: 0.9000\n",
            "Epoch 103/200\n",
            "5/5 [==============================] - 0s 15ms/step - loss: 0.1000 - accuracy: 0.9000 - val_loss: 0.1000 - val_accuracy: 0.9000\n",
            "Epoch 104/200\n",
            "5/5 [==============================] - 0s 11ms/step - loss: 0.1000 - accuracy: 0.9000 - val_loss: 0.1000 - val_accuracy: 0.9000\n",
            "Epoch 105/200\n",
            "5/5 [==============================] - 0s 15ms/step - loss: 0.1000 - accuracy: 0.9000 - val_loss: 0.1000 - val_accuracy: 0.9000\n",
            "Epoch 106/200\n",
            "5/5 [==============================] - 0s 11ms/step - loss: 0.1000 - accuracy: 0.9000 - val_loss: 0.1000 - val_accuracy: 0.9000\n",
            "Epoch 107/200\n",
            "5/5 [==============================] - 0s 13ms/step - loss: 0.1000 - accuracy: 0.9000 - val_loss: 0.1000 - val_accuracy: 0.9000\n",
            "Epoch 108/200\n",
            "5/5 [==============================] - 0s 15ms/step - loss: 0.1000 - accuracy: 0.9000 - val_loss: 0.1000 - val_accuracy: 0.9000\n",
            "Epoch 109/200\n",
            "5/5 [==============================] - 0s 11ms/step - loss: 0.1000 - accuracy: 0.9000 - val_loss: 0.1000 - val_accuracy: 0.9000\n",
            "Epoch 110/200\n",
            "5/5 [==============================] - 0s 15ms/step - loss: 0.1000 - accuracy: 0.9000 - val_loss: 0.1000 - val_accuracy: 0.9000\n",
            "Epoch 111/200\n",
            "5/5 [==============================] - 0s 13ms/step - loss: 0.1000 - accuracy: 0.9000 - val_loss: 0.1001 - val_accuracy: 0.9000\n",
            "Epoch 112/200\n",
            "5/5 [==============================] - 0s 15ms/step - loss: 0.1000 - accuracy: 0.9000 - val_loss: 0.1000 - val_accuracy: 0.9000\n",
            "Epoch 113/200\n",
            "5/5 [==============================] - 0s 14ms/step - loss: 0.1000 - accuracy: 0.9000 - val_loss: 0.1000 - val_accuracy: 0.9000\n",
            "Epoch 114/200\n",
            "5/5 [==============================] - 0s 12ms/step - loss: 0.1000 - accuracy: 0.9000 - val_loss: 0.1000 - val_accuracy: 0.9000\n",
            "Epoch 115/200\n",
            "5/5 [==============================] - 0s 12ms/step - loss: 0.1000 - accuracy: 0.9000 - val_loss: 0.1000 - val_accuracy: 0.9000\n",
            "Epoch 116/200\n",
            "5/5 [==============================] - 0s 15ms/step - loss: 0.1000 - accuracy: 0.9000 - val_loss: 0.1000 - val_accuracy: 0.9000\n",
            "Epoch 117/200\n",
            "5/5 [==============================] - 0s 13ms/step - loss: 0.1000 - accuracy: 0.9000 - val_loss: 0.1000 - val_accuracy: 0.9000\n",
            "Epoch 118/200\n",
            "5/5 [==============================] - 0s 14ms/step - loss: 0.1000 - accuracy: 0.9000 - val_loss: 0.1000 - val_accuracy: 0.9000\n",
            "Epoch 119/200\n",
            "5/5 [==============================] - 0s 11ms/step - loss: 0.1000 - accuracy: 0.9000 - val_loss: 0.1000 - val_accuracy: 0.9000\n",
            "Epoch 120/200\n",
            "5/5 [==============================] - 0s 14ms/step - loss: 0.1000 - accuracy: 0.9000 - val_loss: 0.1001 - val_accuracy: 0.9000\n",
            "Epoch 121/200\n",
            "5/5 [==============================] - 0s 13ms/step - loss: 0.1000 - accuracy: 0.9000 - val_loss: 0.1000 - val_accuracy: 0.9000\n",
            "Epoch 122/200\n",
            "5/5 [==============================] - 0s 16ms/step - loss: 0.1000 - accuracy: 0.9000 - val_loss: 0.1000 - val_accuracy: 0.9000\n",
            "Epoch 123/200\n",
            "5/5 [==============================] - 0s 16ms/step - loss: 0.1000 - accuracy: 0.9000 - val_loss: 0.1000 - val_accuracy: 0.9000\n",
            "Epoch 124/200\n",
            "5/5 [==============================] - 0s 15ms/step - loss: 0.1000 - accuracy: 0.9000 - val_loss: 0.1000 - val_accuracy: 0.9000\n",
            "Epoch 125/200\n",
            "5/5 [==============================] - 0s 18ms/step - loss: 0.1000 - accuracy: 0.9000 - val_loss: 0.1000 - val_accuracy: 0.9000\n",
            "Epoch 126/200\n",
            "5/5 [==============================] - 0s 12ms/step - loss: 0.1000 - accuracy: 0.9000 - val_loss: 0.1000 - val_accuracy: 0.9000\n",
            "Epoch 127/200\n",
            "5/5 [==============================] - 0s 15ms/step - loss: 0.1000 - accuracy: 0.9000 - val_loss: 0.1000 - val_accuracy: 0.9000\n",
            "Epoch 128/200\n",
            "5/5 [==============================] - 0s 12ms/step - loss: 0.1000 - accuracy: 0.9000 - val_loss: 0.1000 - val_accuracy: 0.9000\n",
            "Epoch 129/200\n",
            "5/5 [==============================] - 0s 14ms/step - loss: 0.1000 - accuracy: 0.9000 - val_loss: 0.1001 - val_accuracy: 0.9000\n",
            "Epoch 130/200\n",
            "5/5 [==============================] - 0s 16ms/step - loss: 0.1000 - accuracy: 0.9000 - val_loss: 0.1000 - val_accuracy: 0.9000\n",
            "Epoch 131/200\n",
            "5/5 [==============================] - 0s 12ms/step - loss: 0.1000 - accuracy: 0.9000 - val_loss: 0.1000 - val_accuracy: 0.9000\n",
            "Epoch 132/200\n",
            "5/5 [==============================] - 0s 15ms/step - loss: 0.1000 - accuracy: 0.9000 - val_loss: 0.1000 - val_accuracy: 0.9000\n",
            "Epoch 133/200\n",
            "5/5 [==============================] - 0s 11ms/step - loss: 0.1000 - accuracy: 0.9000 - val_loss: 0.1000 - val_accuracy: 0.9000\n",
            "Epoch 134/200\n",
            "5/5 [==============================] - 0s 16ms/step - loss: 0.1000 - accuracy: 0.9000 - val_loss: 0.1000 - val_accuracy: 0.9000\n",
            "Epoch 135/200\n",
            "5/5 [==============================] - 0s 11ms/step - loss: 0.1000 - accuracy: 0.9000 - val_loss: 0.1000 - val_accuracy: 0.9000\n",
            "Epoch 136/200\n",
            "5/5 [==============================] - 0s 11ms/step - loss: 0.1000 - accuracy: 0.9000 - val_loss: 0.1000 - val_accuracy: 0.9000\n",
            "Epoch 137/200\n",
            "5/5 [==============================] - 0s 11ms/step - loss: 0.1000 - accuracy: 0.9000 - val_loss: 0.1000 - val_accuracy: 0.9000\n",
            "Epoch 138/200\n",
            "5/5 [==============================] - 0s 12ms/step - loss: 0.1000 - accuracy: 0.9000 - val_loss: 0.1001 - val_accuracy: 0.9000\n",
            "Epoch 139/200\n",
            "5/5 [==============================] - 0s 14ms/step - loss: 0.1000 - accuracy: 0.9000 - val_loss: 0.1000 - val_accuracy: 0.9000\n",
            "Epoch 140/200\n",
            "5/5 [==============================] - 0s 15ms/step - loss: 0.1000 - accuracy: 0.9000 - val_loss: 0.1000 - val_accuracy: 0.9000\n",
            "Epoch 141/200\n",
            "5/5 [==============================] - 0s 16ms/step - loss: 0.1000 - accuracy: 0.9000 - val_loss: 0.1000 - val_accuracy: 0.9000\n",
            "Epoch 142/200\n",
            "5/5 [==============================] - 0s 15ms/step - loss: 0.1000 - accuracy: 0.9000 - val_loss: 0.1000 - val_accuracy: 0.9000\n",
            "Epoch 143/200\n",
            "5/5 [==============================] - 0s 15ms/step - loss: 0.1000 - accuracy: 0.9000 - val_loss: 0.1000 - val_accuracy: 0.9000\n",
            "Epoch 144/200\n",
            "5/5 [==============================] - 0s 11ms/step - loss: 0.1000 - accuracy: 0.9000 - val_loss: 0.1000 - val_accuracy: 0.9000\n",
            "Epoch 145/200\n",
            "5/5 [==============================] - 0s 11ms/step - loss: 0.1000 - accuracy: 0.9000 - val_loss: 0.1000 - val_accuracy: 0.9000\n",
            "Epoch 146/200\n",
            "5/5 [==============================] - 0s 12ms/step - loss: 0.1000 - accuracy: 0.9000 - val_loss: 0.1000 - val_accuracy: 0.9000\n",
            "Epoch 147/200\n",
            "5/5 [==============================] - 0s 15ms/step - loss: 0.1000 - accuracy: 0.9000 - val_loss: 0.1001 - val_accuracy: 0.9000\n",
            "Epoch 148/200\n",
            "5/5 [==============================] - 0s 13ms/step - loss: 0.1000 - accuracy: 0.9000 - val_loss: 0.1000 - val_accuracy: 0.9000\n",
            "Epoch 149/200\n",
            "5/5 [==============================] - 0s 13ms/step - loss: 0.1000 - accuracy: 0.9000 - val_loss: 0.1000 - val_accuracy: 0.9000\n",
            "Epoch 150/200\n",
            "5/5 [==============================] - 0s 12ms/step - loss: 0.1000 - accuracy: 0.9000 - val_loss: 0.1000 - val_accuracy: 0.9000\n",
            "Epoch 151/200\n",
            "5/5 [==============================] - 0s 15ms/step - loss: 0.1000 - accuracy: 0.9000 - val_loss: 0.1000 - val_accuracy: 0.9000\n",
            "Epoch 152/200\n",
            "5/5 [==============================] - 0s 11ms/step - loss: 0.1000 - accuracy: 0.9000 - val_loss: 0.1000 - val_accuracy: 0.9000\n",
            "Epoch 153/200\n",
            "5/5 [==============================] - 0s 16ms/step - loss: 0.1000 - accuracy: 0.9000 - val_loss: 0.1000 - val_accuracy: 0.9000\n",
            "Epoch 154/200\n",
            "5/5 [==============================] - 0s 15ms/step - loss: 0.1000 - accuracy: 0.9000 - val_loss: 0.1000 - val_accuracy: 0.9000\n",
            "Epoch 155/200\n",
            "5/5 [==============================] - 0s 14ms/step - loss: 0.1000 - accuracy: 0.9000 - val_loss: 0.1000 - val_accuracy: 0.9000\n",
            "Epoch 156/200\n",
            "5/5 [==============================] - 0s 13ms/step - loss: 0.1000 - accuracy: 0.9000 - val_loss: 0.1001 - val_accuracy: 0.9000\n",
            "Epoch 157/200\n",
            "5/5 [==============================] - 0s 12ms/step - loss: 0.1000 - accuracy: 0.9000 - val_loss: 0.1000 - val_accuracy: 0.9000\n",
            "Epoch 158/200\n",
            "5/5 [==============================] - 0s 11ms/step - loss: 0.1000 - accuracy: 0.9000 - val_loss: 0.1000 - val_accuracy: 0.9000\n",
            "Epoch 159/200\n",
            "5/5 [==============================] - 0s 12ms/step - loss: 0.1000 - accuracy: 0.9000 - val_loss: 0.1000 - val_accuracy: 0.9000\n",
            "Epoch 160/200\n",
            "5/5 [==============================] - 0s 15ms/step - loss: 0.1000 - accuracy: 0.9000 - val_loss: 0.1000 - val_accuracy: 0.9000\n",
            "Epoch 161/200\n",
            "5/5 [==============================] - 0s 11ms/step - loss: 0.1000 - accuracy: 0.9000 - val_loss: 0.1000 - val_accuracy: 0.9000\n",
            "Epoch 162/200\n",
            "5/5 [==============================] - 0s 15ms/step - loss: 0.1000 - accuracy: 0.9000 - val_loss: 0.1000 - val_accuracy: 0.9000\n",
            "Epoch 163/200\n",
            "5/5 [==============================] - 0s 11ms/step - loss: 0.1000 - accuracy: 0.9000 - val_loss: 0.1000 - val_accuracy: 0.9000\n",
            "Epoch 164/200\n",
            "5/5 [==============================] - 0s 14ms/step - loss: 0.1000 - accuracy: 0.9000 - val_loss: 0.1000 - val_accuracy: 0.9000\n",
            "Epoch 165/200\n",
            "5/5 [==============================] - 0s 12ms/step - loss: 0.1000 - accuracy: 0.9000 - val_loss: 0.1001 - val_accuracy: 0.9000\n",
            "Epoch 166/200\n",
            "5/5 [==============================] - 0s 15ms/step - loss: 0.1000 - accuracy: 0.9000 - val_loss: 0.1000 - val_accuracy: 0.9000\n",
            "Epoch 167/200\n",
            "5/5 [==============================] - 0s 15ms/step - loss: 0.1000 - accuracy: 0.9000 - val_loss: 0.1000 - val_accuracy: 0.9000\n",
            "Epoch 168/200\n",
            "5/5 [==============================] - 0s 14ms/step - loss: 0.1000 - accuracy: 0.9000 - val_loss: 0.1000 - val_accuracy: 0.9000\n",
            "Epoch 169/200\n",
            "5/5 [==============================] - 0s 19ms/step - loss: 0.1000 - accuracy: 0.9000 - val_loss: 0.1000 - val_accuracy: 0.9000\n",
            "Epoch 170/200\n",
            "5/5 [==============================] - 0s 19ms/step - loss: 0.1000 - accuracy: 0.9000 - val_loss: 0.1000 - val_accuracy: 0.9000\n",
            "Epoch 171/200\n",
            "5/5 [==============================] - 0s 16ms/step - loss: 0.1000 - accuracy: 0.9000 - val_loss: 0.1000 - val_accuracy: 0.9000\n",
            "Epoch 172/200\n",
            "5/5 [==============================] - 0s 18ms/step - loss: 0.1000 - accuracy: 0.9000 - val_loss: 0.1000 - val_accuracy: 0.9000\n",
            "Epoch 173/200\n",
            "5/5 [==============================] - 0s 19ms/step - loss: 0.1000 - accuracy: 0.9000 - val_loss: 0.1000 - val_accuracy: 0.9000\n",
            "Epoch 174/200\n",
            "5/5 [==============================] - 0s 19ms/step - loss: 0.1000 - accuracy: 0.9000 - val_loss: 0.1001 - val_accuracy: 0.9000\n",
            "Epoch 175/200\n",
            "5/5 [==============================] - 0s 17ms/step - loss: 0.1000 - accuracy: 0.9000 - val_loss: 0.1000 - val_accuracy: 0.9000\n",
            "Epoch 176/200\n",
            "5/5 [==============================] - 0s 18ms/step - loss: 0.1000 - accuracy: 0.9000 - val_loss: 0.1000 - val_accuracy: 0.9000\n",
            "Epoch 177/200\n",
            "5/5 [==============================] - 0s 18ms/step - loss: 0.1000 - accuracy: 0.9000 - val_loss: 0.1000 - val_accuracy: 0.9000\n",
            "Epoch 178/200\n",
            "5/5 [==============================] - 0s 18ms/step - loss: 0.1000 - accuracy: 0.9000 - val_loss: 0.1000 - val_accuracy: 0.9000\n",
            "Epoch 179/200\n",
            "5/5 [==============================] - 0s 20ms/step - loss: 0.1000 - accuracy: 0.9000 - val_loss: 0.1000 - val_accuracy: 0.9000\n",
            "Epoch 180/200\n",
            "5/5 [==============================] - 0s 18ms/step - loss: 0.1000 - accuracy: 0.9000 - val_loss: 0.1000 - val_accuracy: 0.9000\n",
            "Epoch 181/200\n",
            "5/5 [==============================] - 0s 17ms/step - loss: 0.1000 - accuracy: 0.9000 - val_loss: 0.1000 - val_accuracy: 0.9000\n",
            "Epoch 182/200\n",
            "5/5 [==============================] - 0s 21ms/step - loss: 0.1000 - accuracy: 0.9000 - val_loss: 0.1000 - val_accuracy: 0.9000\n",
            "Epoch 183/200\n",
            "5/5 [==============================] - 0s 18ms/step - loss: 0.1000 - accuracy: 0.9000 - val_loss: 0.1001 - val_accuracy: 0.9000\n",
            "Epoch 184/200\n",
            "5/5 [==============================] - 0s 17ms/step - loss: 0.1000 - accuracy: 0.9000 - val_loss: 0.1000 - val_accuracy: 0.9000\n",
            "Epoch 185/200\n",
            "5/5 [==============================] - 0s 17ms/step - loss: 0.1000 - accuracy: 0.9000 - val_loss: 0.1000 - val_accuracy: 0.9000\n",
            "Epoch 186/200\n",
            "5/5 [==============================] - 0s 16ms/step - loss: 0.1000 - accuracy: 0.9000 - val_loss: 0.1000 - val_accuracy: 0.9000\n",
            "Epoch 187/200\n",
            "5/5 [==============================] - 0s 19ms/step - loss: 0.1000 - accuracy: 0.9000 - val_loss: 0.1000 - val_accuracy: 0.9000\n",
            "Epoch 188/200\n",
            "5/5 [==============================] - 0s 20ms/step - loss: 0.1000 - accuracy: 0.9000 - val_loss: 0.1000 - val_accuracy: 0.9000\n",
            "Epoch 189/200\n",
            "5/5 [==============================] - 0s 18ms/step - loss: 0.1000 - accuracy: 0.9000 - val_loss: 0.1000 - val_accuracy: 0.9000\n",
            "Epoch 190/200\n",
            "5/5 [==============================] - 0s 18ms/step - loss: 0.1000 - accuracy: 0.9000 - val_loss: 0.1000 - val_accuracy: 0.9000\n",
            "Epoch 191/200\n",
            "5/5 [==============================] - 0s 19ms/step - loss: 0.1000 - accuracy: 0.9000 - val_loss: 0.1000 - val_accuracy: 0.9000\n",
            "Epoch 192/200\n",
            "5/5 [==============================] - 0s 15ms/step - loss: 0.1000 - accuracy: 0.9000 - val_loss: 0.1001 - val_accuracy: 0.9000\n",
            "Epoch 193/200\n",
            "5/5 [==============================] - 0s 17ms/step - loss: 0.1000 - accuracy: 0.9000 - val_loss: 0.1000 - val_accuracy: 0.9000\n",
            "Epoch 194/200\n",
            "5/5 [==============================] - 0s 22ms/step - loss: 0.1000 - accuracy: 0.9000 - val_loss: 0.1000 - val_accuracy: 0.9000\n",
            "Epoch 195/200\n",
            "5/5 [==============================] - 0s 15ms/step - loss: 0.1000 - accuracy: 0.9000 - val_loss: 0.1000 - val_accuracy: 0.9000\n",
            "Epoch 196/200\n",
            "5/5 [==============================] - 0s 18ms/step - loss: 0.1000 - accuracy: 0.9000 - val_loss: 0.1000 - val_accuracy: 0.9000\n",
            "Epoch 197/200\n",
            "5/5 [==============================] - 0s 17ms/step - loss: 0.1000 - accuracy: 0.9000 - val_loss: 0.1000 - val_accuracy: 0.9000\n",
            "Epoch 198/200\n",
            "5/5 [==============================] - 0s 15ms/step - loss: 0.1000 - accuracy: 0.9000 - val_loss: 0.1000 - val_accuracy: 0.9000\n",
            "Epoch 199/200\n",
            "5/5 [==============================] - 0s 16ms/step - loss: 0.1000 - accuracy: 0.9000 - val_loss: 0.1000 - val_accuracy: 0.9000\n",
            "Epoch 200/200\n",
            "5/5 [==============================] - 0s 19ms/step - loss: 0.1000 - accuracy: 0.9000 - val_loss: 0.1000 - val_accuracy: 0.9000\n"
          ]
        }
      ],
      "source": [
        "EPOCH=200\n",
        "Network_Regressor=NN_model_Regressor.fit(X_Train_S, y_train, validation_data=(X_Test_S,y_test), epochs=EPOCH, batch_size=200)"
      ]
    },
    {
      "cell_type": "markdown",
      "source": [
        "# C. Plot 2 separate visuals. "
      ],
      "metadata": {
        "id": "fnmrRBvTGXzq"
      }
    },
    {
      "cell_type": "code",
      "execution_count": 26,
      "metadata": {
        "id": "oMj8jOaGVu-I",
        "colab": {
          "base_uri": "https://localhost:8080/",
          "height": 295
        },
        "outputId": "895d41c6-7306-4f38-92f2-b64b81589462"
      },
      "outputs": [
        {
          "output_type": "display_data",
          "data": {
            "text/plain": [
              "<Figure size 432x288 with 1 Axes>"
            ],
            "image/png": "[encoded data removed]"
          },
          "metadata": {
            "needs_background": "light"
          }
        }
      ],
      "source": [
        "loss_train = Network_Regressor.history['loss']\n",
        "loss_val = Network_Regressor.history['val_loss']\n",
        "epochs = range(1,EPOCH+1)\n",
        "plt.plot(epochs, loss_train, 'y', label='Training loss')\n",
        "plt.plot(epochs, loss_val, 'b', label='validation loss')\n",
        "plt.title('Training and Validation loss')\n",
        "plt.xlabel('Epochs')\n",
        "plt.ylabel('Loss')\n",
        "plt.legend()\n",
        "plt.show()"
      ]
    },
    {
      "cell_type": "code",
      "source": [
        "Acc_train = Network_Regressor.history['accuracy']\n",
        "Acc_val = Network_Regressor.history['val_accuracy']\n",
        "epochs = range(1,EPOCH+1)\n",
        "plt.plot(epochs, Acc_train, 'g', label='Training accuracy')\n",
        "plt.plot(epochs, Acc_val, 'b', label='validation accuracy')\n",
        "plt.title('Training and Validation accuracy')\n",
        "plt.xlabel('Epochs')\n",
        "plt.ylabel('accuracy')\n",
        "plt.legend()\n",
        "plt.show()"
      ],
      "metadata": {
        "id": "q9jA19we64pG",
        "colab": {
          "base_uri": "https://localhost:8080/",
          "height": 295
        },
        "outputId": "46aacd77-b015-4e84-9a47-08451ae5fecc"
      },
      "execution_count": 27,
      "outputs": [
        {
          "output_type": "display_data",
          "data": {
            "text/plain": [
              "<Figure size 432x288 with 1 Axes>"
            ],
            "image/png": "[encoded data removed]"
          },
          "metadata": {
            "needs_background": "light"
          }
        }
      ]
    },
    {
      "cell_type": "markdown",
      "source": [
        "# D. Design new architecture/update existing architecture in attempt to improve the performance of the model. "
      ],
      "metadata": {
        "id": "4Piy25u8Gmf3"
      }
    },
    {
      "cell_type": "code",
      "source": [
        "from tensorflow.python.ops.gen_math_ops import Sigmoid\n",
        "from tensorflow.keras import activations\n",
        "model=tf.keras.Sequential()\n",
        "model.add(Dense(128, kernel_initializer='normal',input_dim = X_train.shape[1], activation='relu'))\n",
        "model.add(Dense(64, kernel_initializer='normal',activation='relu'))\n",
        "model.add(Dense(32, kernel_initializer='normal'))\n",
        "model.add(layers.Activation(activations.relu))\n",
        "model.add(Dense(16, kernel_initializer='normal'))\n",
        "model.add(layers.Activation(activations.relu))\n",
        "model.add(Dense(1, kernel_initializer='normal'))\n",
        "model.add(LeakyReLU(alpha=0.1))\n",
        "model.compile(loss='mean_absolute_error', optimizer='adam', metrics=['accuracy'])\n",
        "model.summary()"
      ],
      "metadata": {
        "id": "bB6HsJxqGog8",
        "colab": {
          "base_uri": "https://localhost:8080/"
        },
        "outputId": "0222358c-f8f8-4888-d905-00d255a050d7"
      },
      "execution_count": 28,
      "outputs": [
        {
          "output_type": "stream",
          "name": "stdout",
          "text": [
            "Model: \"sequential_1\"\n",
            "_________________________________________________________________\n",
            " Layer (type)                Output Shape              Param #   \n",
            "=================================================================\n",
            " dense_5 (Dense)             (None, 128)               1536      \n",
            "                                                                 \n",
            " dense_6 (Dense)             (None, 64)                8256      \n",
            "                                                                 \n",
            " dense_7 (Dense)             (None, 32)                2080      \n",
            "                                                                 \n",
            " activation (Activation)     (None, 32)                0         \n",
            "                                                                 \n",
            " dense_8 (Dense)             (None, 16)                528       \n",
            "                                                                 \n",
            " activation_1 (Activation)   (None, 16)                0         \n",
            "                                                                 \n",
            " dense_9 (Dense)             (None, 1)                 17        \n",
            "                                                                 \n",
            " leaky_re_lu_3 (LeakyReLU)   (None, 1)                 0         \n",
            "                                                                 \n",
            "=================================================================\n",
            "Total params: 12,417\n",
            "Trainable params: 12,417\n",
            "Non-trainable params: 0\n",
            "_________________________________________________________________\n"
          ]
        }
      ]
    },
    {
      "cell_type": "code",
      "source": [
        "EPOCH=100\n",
        "Network_Regressor=model.fit(X_Train_S, y_train, validation_data=(X_Test_S,y_test), epochs=EPOCH, batch_size=200)"
      ],
      "metadata": {
        "id": "W1M0XwpVGpAm",
        "colab": {
          "base_uri": "https://localhost:8080/"
        },
        "outputId": "b895044a-4f6a-4694-9060-eadd7d857adc"
      },
      "execution_count": 29,
      "outputs": [
        {
          "output_type": "stream",
          "name": "stdout",
          "text": [
            "Epoch 1/100\n",
            "5/5 [==============================] - 2s 46ms/step - loss: 0.1002 - accuracy: 0.9000 - val_loss: 0.1001 - val_accuracy: 0.9000\n",
            "Epoch 2/100\n",
            "5/5 [==============================] - 0s 13ms/step - loss: 0.1002 - accuracy: 0.9000 - val_loss: 0.1002 - val_accuracy: 0.9000\n",
            "Epoch 3/100\n",
            "5/5 [==============================] - 0s 11ms/step - loss: 0.1002 - accuracy: 0.9000 - val_loss: 0.1002 - val_accuracy: 0.9000\n",
            "Epoch 4/100\n",
            "5/5 [==============================] - 0s 13ms/step - loss: 0.1002 - accuracy: 0.9000 - val_loss: 0.1001 - val_accuracy: 0.9000\n",
            "Epoch 5/100\n",
            "5/5 [==============================] - 0s 15ms/step - loss: 0.1001 - accuracy: 0.9000 - val_loss: 0.1000 - val_accuracy: 0.9000\n",
            "Epoch 6/100\n",
            "5/5 [==============================] - 0s 15ms/step - loss: 0.1001 - accuracy: 0.9000 - val_loss: 0.1000 - val_accuracy: 0.9000\n",
            "Epoch 7/100\n",
            "5/5 [==============================] - 0s 11ms/step - loss: 0.1000 - accuracy: 0.9000 - val_loss: 0.1000 - val_accuracy: 0.9000\n",
            "Epoch 8/100\n",
            "5/5 [==============================] - 0s 11ms/step - loss: 0.1000 - accuracy: 0.9000 - val_loss: 0.1000 - val_accuracy: 0.9000\n",
            "Epoch 9/100\n",
            "5/5 [==============================] - 0s 15ms/step - loss: 0.1000 - accuracy: 0.9000 - val_loss: 0.1001 - val_accuracy: 0.9000\n",
            "Epoch 10/100\n",
            "5/5 [==============================] - 0s 11ms/step - loss: 0.1000 - accuracy: 0.9000 - val_loss: 0.1000 - val_accuracy: 0.9000\n",
            "Epoch 11/100\n",
            "5/5 [==============================] - 0s 18ms/step - loss: 0.1000 - accuracy: 0.9000 - val_loss: 0.1001 - val_accuracy: 0.9000\n",
            "Epoch 12/100\n",
            "5/5 [==============================] - 0s 15ms/step - loss: 0.1001 - accuracy: 0.9000 - val_loss: 0.1000 - val_accuracy: 0.9000\n",
            "Epoch 13/100\n",
            "5/5 [==============================] - 0s 14ms/step - loss: 0.1000 - accuracy: 0.9000 - val_loss: 0.1000 - val_accuracy: 0.9000\n",
            "Epoch 14/100\n",
            "5/5 [==============================] - 0s 12ms/step - loss: 0.1000 - accuracy: 0.9000 - val_loss: 0.1001 - val_accuracy: 0.9000\n",
            "Epoch 15/100\n",
            "5/5 [==============================] - 0s 15ms/step - loss: 0.1000 - accuracy: 0.9000 - val_loss: 0.1000 - val_accuracy: 0.9000\n",
            "Epoch 16/100\n",
            "5/5 [==============================] - 0s 14ms/step - loss: 0.1000 - accuracy: 0.9000 - val_loss: 0.1001 - val_accuracy: 0.9000\n",
            "Epoch 17/100\n",
            "5/5 [==============================] - 0s 11ms/step - loss: 0.1000 - accuracy: 0.9000 - val_loss: 0.1001 - val_accuracy: 0.9000\n",
            "Epoch 18/100\n",
            "5/5 [==============================] - 0s 13ms/step - loss: 0.1000 - accuracy: 0.9000 - val_loss: 0.1000 - val_accuracy: 0.9000\n",
            "Epoch 19/100\n",
            "5/5 [==============================] - 0s 11ms/step - loss: 0.1000 - accuracy: 0.9000 - val_loss: 0.1000 - val_accuracy: 0.9000\n",
            "Epoch 20/100\n",
            "5/5 [==============================] - 0s 11ms/step - loss: 0.1000 - accuracy: 0.9000 - val_loss: 0.1000 - val_accuracy: 0.9000\n",
            "Epoch 21/100\n",
            "5/5 [==============================] - 0s 11ms/step - loss: 0.1000 - accuracy: 0.9000 - val_loss: 0.1000 - val_accuracy: 0.9000\n",
            "Epoch 22/100\n",
            "5/5 [==============================] - 0s 11ms/step - loss: 0.1000 - accuracy: 0.9000 - val_loss: 0.1000 - val_accuracy: 0.9000\n",
            "Epoch 23/100\n",
            "5/5 [==============================] - 0s 11ms/step - loss: 0.1000 - accuracy: 0.9000 - val_loss: 0.1000 - val_accuracy: 0.9000\n",
            "Epoch 24/100\n",
            "5/5 [==============================] - 0s 11ms/step - loss: 0.1000 - accuracy: 0.9000 - val_loss: 0.1000 - val_accuracy: 0.9000\n",
            "Epoch 25/100\n",
            "5/5 [==============================] - 0s 15ms/step - loss: 0.1000 - accuracy: 0.9000 - val_loss: 0.1001 - val_accuracy: 0.9000\n",
            "Epoch 26/100\n",
            "5/5 [==============================] - 0s 11ms/step - loss: 0.1000 - accuracy: 0.9000 - val_loss: 0.1000 - val_accuracy: 0.9000\n",
            "Epoch 27/100\n",
            "5/5 [==============================] - 0s 14ms/step - loss: 0.1000 - accuracy: 0.9000 - val_loss: 0.1000 - val_accuracy: 0.9000\n",
            "Epoch 28/100\n",
            "5/5 [==============================] - 0s 11ms/step - loss: 0.1000 - accuracy: 0.9000 - val_loss: 0.1000 - val_accuracy: 0.9000\n",
            "Epoch 29/100\n",
            "5/5 [==============================] - 0s 11ms/step - loss: 0.1000 - accuracy: 0.9000 - val_loss: 0.1000 - val_accuracy: 0.9000\n",
            "Epoch 30/100\n",
            "5/5 [==============================] - 0s 11ms/step - loss: 0.1000 - accuracy: 0.9000 - val_loss: 0.1000 - val_accuracy: 0.9000\n",
            "Epoch 31/100\n",
            "5/5 [==============================] - 0s 11ms/step - loss: 0.1000 - accuracy: 0.9000 - val_loss: 0.1000 - val_accuracy: 0.9000\n",
            "Epoch 32/100\n",
            "5/5 [==============================] - 0s 11ms/step - loss: 0.1000 - accuracy: 0.9000 - val_loss: 0.1000 - val_accuracy: 0.9000\n",
            "Epoch 33/100\n",
            "5/5 [==============================] - 0s 11ms/step - loss: 0.1000 - accuracy: 0.9000 - val_loss: 0.1000 - val_accuracy: 0.9000\n",
            "Epoch 34/100\n",
            "5/5 [==============================] - 0s 11ms/step - loss: 0.1000 - accuracy: 0.9000 - val_loss: 0.1000 - val_accuracy: 0.9000\n",
            "Epoch 35/100\n",
            "5/5 [==============================] - 0s 14ms/step - loss: 0.1000 - accuracy: 0.9000 - val_loss: 0.1000 - val_accuracy: 0.9000\n",
            "Epoch 36/100\n",
            "5/5 [==============================] - 0s 13ms/step - loss: 0.1000 - accuracy: 0.9000 - val_loss: 0.1000 - val_accuracy: 0.9000\n",
            "Epoch 37/100\n",
            "5/5 [==============================] - 0s 16ms/step - loss: 0.1000 - accuracy: 0.9000 - val_loss: 0.1000 - val_accuracy: 0.9000\n",
            "Epoch 38/100\n",
            "5/5 [==============================] - 0s 11ms/step - loss: 0.1000 - accuracy: 0.9000 - val_loss: 0.1000 - val_accuracy: 0.9000\n",
            "Epoch 39/100\n",
            "5/5 [==============================] - 0s 14ms/step - loss: 0.1000 - accuracy: 0.9000 - val_loss: 0.1000 - val_accuracy: 0.9000\n",
            "Epoch 40/100\n",
            "5/5 [==============================] - 0s 11ms/step - loss: 0.1000 - accuracy: 0.9000 - val_loss: 0.1000 - val_accuracy: 0.9000\n",
            "Epoch 41/100\n",
            "5/5 [==============================] - 0s 11ms/step - loss: 0.1000 - accuracy: 0.9000 - val_loss: 0.1000 - val_accuracy: 0.9000\n",
            "Epoch 42/100\n",
            "5/5 [==============================] - 0s 14ms/step - loss: 0.1000 - accuracy: 0.9000 - val_loss: 0.1000 - val_accuracy: 0.9000\n",
            "Epoch 43/100\n",
            "5/5 [==============================] - 0s 11ms/step - loss: 0.1000 - accuracy: 0.9000 - val_loss: 0.1000 - val_accuracy: 0.9000\n",
            "Epoch 44/100\n",
            "5/5 [==============================] - 0s 15ms/step - loss: 0.1000 - accuracy: 0.9000 - val_loss: 0.1000 - val_accuracy: 0.9000\n",
            "Epoch 45/100\n",
            "5/5 [==============================] - 0s 11ms/step - loss: 0.1000 - accuracy: 0.9000 - val_loss: 0.1000 - val_accuracy: 0.9000\n",
            "Epoch 46/100\n",
            "5/5 [==============================] - 0s 11ms/step - loss: 0.1000 - accuracy: 0.9000 - val_loss: 0.1000 - val_accuracy: 0.9000\n",
            "Epoch 47/100\n",
            "5/5 [==============================] - 0s 11ms/step - loss: 0.1000 - accuracy: 0.9000 - val_loss: 0.1000 - val_accuracy: 0.9000\n",
            "Epoch 48/100\n",
            "5/5 [==============================] - 0s 14ms/step - loss: 0.1000 - accuracy: 0.9000 - val_loss: 0.1000 - val_accuracy: 0.9000\n",
            "Epoch 49/100\n",
            "5/5 [==============================] - 0s 14ms/step - loss: 0.1000 - accuracy: 0.9000 - val_loss: 0.1000 - val_accuracy: 0.9000\n",
            "Epoch 50/100\n",
            "5/5 [==============================] - 0s 11ms/step - loss: 0.1000 - accuracy: 0.9000 - val_loss: 0.1000 - val_accuracy: 0.9000\n",
            "Epoch 51/100\n",
            "5/5 [==============================] - 0s 12ms/step - loss: 0.1000 - accuracy: 0.9000 - val_loss: 0.1000 - val_accuracy: 0.9000\n",
            "Epoch 52/100\n",
            "5/5 [==============================] - 0s 11ms/step - loss: 0.1000 - accuracy: 0.9000 - val_loss: 0.1001 - val_accuracy: 0.9000\n",
            "Epoch 53/100\n",
            "5/5 [==============================] - 0s 14ms/step - loss: 0.1000 - accuracy: 0.9000 - val_loss: 0.1000 - val_accuracy: 0.9000\n",
            "Epoch 54/100\n",
            "5/5 [==============================] - 0s 11ms/step - loss: 0.1000 - accuracy: 0.9000 - val_loss: 0.1000 - val_accuracy: 0.9000\n",
            "Epoch 55/100\n",
            "5/5 [==============================] - 0s 11ms/step - loss: 0.1000 - accuracy: 0.9000 - val_loss: 0.1000 - val_accuracy: 0.9000\n",
            "Epoch 56/100\n",
            "5/5 [==============================] - 0s 11ms/step - loss: 0.1000 - accuracy: 0.9000 - val_loss: 0.1000 - val_accuracy: 0.9000\n",
            "Epoch 57/100\n",
            "5/5 [==============================] - 0s 11ms/step - loss: 0.1000 - accuracy: 0.9000 - val_loss: 0.1000 - val_accuracy: 0.9000\n",
            "Epoch 58/100\n",
            "5/5 [==============================] - 0s 11ms/step - loss: 0.1000 - accuracy: 0.9000 - val_loss: 0.1000 - val_accuracy: 0.9000\n",
            "Epoch 59/100\n",
            "5/5 [==============================] - 0s 16ms/step - loss: 0.1000 - accuracy: 0.9000 - val_loss: 0.1000 - val_accuracy: 0.9000\n",
            "Epoch 60/100\n",
            "5/5 [==============================] - 0s 15ms/step - loss: 0.1000 - accuracy: 0.9000 - val_loss: 0.1000 - val_accuracy: 0.9000\n",
            "Epoch 61/100\n",
            "5/5 [==============================] - 0s 15ms/step - loss: 0.1000 - accuracy: 0.9000 - val_loss: 0.1001 - val_accuracy: 0.9000\n",
            "Epoch 62/100\n",
            "5/5 [==============================] - 0s 15ms/step - loss: 0.1000 - accuracy: 0.9000 - val_loss: 0.1000 - val_accuracy: 0.9000\n",
            "Epoch 63/100\n",
            "5/5 [==============================] - 0s 11ms/step - loss: 0.1000 - accuracy: 0.9000 - val_loss: 0.1000 - val_accuracy: 0.9000\n",
            "Epoch 64/100\n",
            "5/5 [==============================] - 0s 13ms/step - loss: 0.1000 - accuracy: 0.9000 - val_loss: 0.1000 - val_accuracy: 0.9000\n",
            "Epoch 65/100\n",
            "5/5 [==============================] - 0s 15ms/step - loss: 0.1000 - accuracy: 0.9000 - val_loss: 0.1000 - val_accuracy: 0.9000\n",
            "Epoch 66/100\n",
            "5/5 [==============================] - 0s 11ms/step - loss: 0.1000 - accuracy: 0.9000 - val_loss: 0.1000 - val_accuracy: 0.9000\n",
            "Epoch 67/100\n",
            "5/5 [==============================] - 0s 15ms/step - loss: 0.1000 - accuracy: 0.9000 - val_loss: 0.1000 - val_accuracy: 0.9000\n",
            "Epoch 68/100\n",
            "5/5 [==============================] - 0s 11ms/step - loss: 0.1000 - accuracy: 0.9000 - val_loss: 0.1000 - val_accuracy: 0.9000\n",
            "Epoch 69/100\n",
            "5/5 [==============================] - 0s 14ms/step - loss: 0.1000 - accuracy: 0.9000 - val_loss: 0.1000 - val_accuracy: 0.9000\n",
            "Epoch 70/100\n",
            "5/5 [==============================] - 0s 18ms/step - loss: 0.1000 - accuracy: 0.9000 - val_loss: 0.1000 - val_accuracy: 0.9000\n",
            "Epoch 71/100\n",
            "5/5 [==============================] - 0s 11ms/step - loss: 0.1000 - accuracy: 0.9000 - val_loss: 0.1000 - val_accuracy: 0.9000\n",
            "Epoch 72/100\n",
            "5/5 [==============================] - 0s 14ms/step - loss: 0.1000 - accuracy: 0.9000 - val_loss: 0.1000 - val_accuracy: 0.9000\n",
            "Epoch 73/100\n",
            "5/5 [==============================] - 0s 12ms/step - loss: 0.1000 - accuracy: 0.9000 - val_loss: 0.1000 - val_accuracy: 0.9000\n",
            "Epoch 74/100\n",
            "5/5 [==============================] - 0s 17ms/step - loss: 0.1000 - accuracy: 0.9000 - val_loss: 0.1000 - val_accuracy: 0.9000\n",
            "Epoch 75/100\n",
            "5/5 [==============================] - 0s 14ms/step - loss: 0.1000 - accuracy: 0.9000 - val_loss: 0.1000 - val_accuracy: 0.9000\n",
            "Epoch 76/100\n",
            "5/5 [==============================] - 0s 13ms/step - loss: 0.1000 - accuracy: 0.9000 - val_loss: 0.1000 - val_accuracy: 0.9000\n",
            "Epoch 77/100\n",
            "5/5 [==============================] - 0s 14ms/step - loss: 0.1000 - accuracy: 0.9000 - val_loss: 0.1000 - val_accuracy: 0.9000\n",
            "Epoch 78/100\n",
            "5/5 [==============================] - 0s 14ms/step - loss: 0.1000 - accuracy: 0.9000 - val_loss: 0.1000 - val_accuracy: 0.9000\n",
            "Epoch 79/100\n",
            "5/5 [==============================] - 0s 11ms/step - loss: 0.1000 - accuracy: 0.9000 - val_loss: 0.1000 - val_accuracy: 0.9000\n",
            "Epoch 80/100\n",
            "5/5 [==============================] - 0s 11ms/step - loss: 0.1000 - accuracy: 0.9000 - val_loss: 0.1000 - val_accuracy: 0.9000\n",
            "Epoch 81/100\n",
            "5/5 [==============================] - 0s 11ms/step - loss: 0.1000 - accuracy: 0.9000 - val_loss: 0.1000 - val_accuracy: 0.9000\n",
            "Epoch 82/100\n",
            "5/5 [==============================] - 0s 12ms/step - loss: 0.1000 - accuracy: 0.9000 - val_loss: 0.1000 - val_accuracy: 0.9000\n",
            "Epoch 83/100\n",
            "5/5 [==============================] - 0s 16ms/step - loss: 0.1000 - accuracy: 0.9000 - val_loss: 0.1000 - val_accuracy: 0.9000\n",
            "Epoch 84/100\n",
            "5/5 [==============================] - 0s 14ms/step - loss: 0.1000 - accuracy: 0.9000 - val_loss: 0.1000 - val_accuracy: 0.9000\n",
            "Epoch 85/100\n",
            "5/5 [==============================] - 0s 11ms/step - loss: 0.1000 - accuracy: 0.9000 - val_loss: 0.1000 - val_accuracy: 0.9000\n",
            "Epoch 86/100\n",
            "5/5 [==============================] - 0s 14ms/step - loss: 0.1000 - accuracy: 0.9000 - val_loss: 0.1000 - val_accuracy: 0.9000\n",
            "Epoch 87/100\n",
            "5/5 [==============================] - 0s 13ms/step - loss: 0.1000 - accuracy: 0.9000 - val_loss: 0.1000 - val_accuracy: 0.9000\n",
            "Epoch 88/100\n",
            "5/5 [==============================] - 0s 15ms/step - loss: 0.1000 - accuracy: 0.9000 - val_loss: 0.1000 - val_accuracy: 0.9000\n",
            "Epoch 89/100\n",
            "5/5 [==============================] - 0s 11ms/step - loss: 0.1000 - accuracy: 0.9000 - val_loss: 0.1000 - val_accuracy: 0.9000\n",
            "Epoch 90/100\n",
            "5/5 [==============================] - 0s 11ms/step - loss: 0.1000 - accuracy: 0.9000 - val_loss: 0.1000 - val_accuracy: 0.9000\n",
            "Epoch 91/100\n",
            "5/5 [==============================] - 0s 14ms/step - loss: 0.1000 - accuracy: 0.9000 - val_loss: 0.1000 - val_accuracy: 0.9000\n",
            "Epoch 92/100\n",
            "5/5 [==============================] - 0s 15ms/step - loss: 0.1000 - accuracy: 0.9000 - val_loss: 0.1000 - val_accuracy: 0.9000\n",
            "Epoch 93/100\n",
            "5/5 [==============================] - 0s 13ms/step - loss: 0.1000 - accuracy: 0.9000 - val_loss: 0.1000 - val_accuracy: 0.9000\n",
            "Epoch 94/100\n",
            "5/5 [==============================] - 0s 11ms/step - loss: 0.1000 - accuracy: 0.9000 - val_loss: 0.1000 - val_accuracy: 0.9000\n",
            "Epoch 95/100\n",
            "5/5 [==============================] - 0s 12ms/step - loss: 0.1000 - accuracy: 0.9000 - val_loss: 0.1000 - val_accuracy: 0.9000\n",
            "Epoch 96/100\n",
            "5/5 [==============================] - 0s 12ms/step - loss: 0.1000 - accuracy: 0.9000 - val_loss: 0.1000 - val_accuracy: 0.9000\n",
            "Epoch 97/100\n",
            "5/5 [==============================] - 0s 14ms/step - loss: 0.1000 - accuracy: 0.9000 - val_loss: 0.1000 - val_accuracy: 0.9000\n",
            "Epoch 98/100\n",
            "5/5 [==============================] - 0s 16ms/step - loss: 0.1000 - accuracy: 0.9000 - val_loss: 0.1000 - val_accuracy: 0.9000\n",
            "Epoch 99/100\n",
            "5/5 [==============================] - 0s 11ms/step - loss: 0.1000 - accuracy: 0.9000 - val_loss: 0.1000 - val_accuracy: 0.9000\n",
            "Epoch 100/100\n",
            "5/5 [==============================] - 0s 15ms/step - loss: 0.1000 - accuracy: 0.9000 - val_loss: 0.1000 - val_accuracy: 0.9000\n"
          ]
        }
      ]
    },
    {
      "cell_type": "code",
      "source": [
        "loss_train = Network_Regressor.history['loss']\n",
        "loss_val = Network_Regressor.history['val_loss']\n",
        "epochs = range(1,EPOCH+1)\n",
        "plt.plot(epochs, loss_train, 'y', label='Training loss')\n",
        "plt.plot(epochs, loss_val, 'b', label='validation loss')\n",
        "plt.title('Training and Validation loss')\n",
        "plt.xlabel('Epochs')\n",
        "plt.ylabel('Loss')\n",
        "plt.legend()\n",
        "plt.show()"
      ],
      "metadata": {
        "id": "KS8XRmhKGpQ1",
        "colab": {
          "base_uri": "https://localhost:8080/",
          "height": 295
        },
        "outputId": "0830486f-69dc-4659-c647-a2be8c80c04b"
      },
      "execution_count": 30,
      "outputs": [
        {
          "output_type": "display_data",
          "data": {
            "text/plain": [
              "<Figure size 432x288 with 1 Axes>"
            ],
            "image/png": "[encoded data removed]"
          },
          "metadata": {
            "needs_background": "light"
          }
        }
      ]
    },
    {
      "cell_type": "code",
      "source": [
        "Acc_train = Network_Regressor.history['accuracy']\n",
        "Acc_val = Network_Regressor.history['val_accuracy']\n",
        "epochs = range(1,EPOCH+1)\n",
        "plt.plot(epochs, Acc_train, 'y', label='Training accuracy')\n",
        "plt.plot(epochs, Acc_val, 'b', label='validation accuracy')\n",
        "plt.title('Training and Validation accuracy')\n",
        "plt.xlabel('Epochs')\n",
        "plt.ylabel('accuracy')\n",
        "plt.legend()\n",
        "plt.show()"
      ],
      "metadata": {
        "id": "_JRYW2ioLMgl",
        "colab": {
          "base_uri": "https://localhost:8080/",
          "height": 295
        },
        "outputId": "f78562a6-a9f2-4b3c-8cbe-985499bd0a3a"
      },
      "execution_count": 31,
      "outputs": [
        {
          "output_type": "display_data",
          "data": {
            "text/plain": [
              "<Figure size 432x288 with 1 Axes>"
            ],
            "image/png": "[encoded data removed]"
          },
          "metadata": {
            "needs_background": "light"
          }
        }
      ]
    },
    {
      "cell_type": "markdown",
      "metadata": {
        "id": "Ju1cqYOpya4l"
      },
      "source": [
        "# • PROJECT OBJECTIVE: To build a digit classifier on the SVHN (Street View Housing Number) dataset."
      ]
    },
    {
      "cell_type": "markdown",
      "metadata": {
        "id": "4gBWE-_xyrJs"
      },
      "source": [
        "# **Steps and tasks:**"
      ]
    },
    {
      "cell_type": "code",
      "execution_count": 32,
      "metadata": {
        "id": "OIfNEik3yo3H",
        "colab": {
          "base_uri": "https://localhost:8080/"
        },
        "outputId": "db5fa1dc-3c82-453b-c578-5098e846877d"
      },
      "outputs": [
        {
          "output_type": "stream",
          "name": "stdout",
          "text": [
            "Drive already mounted at /content/drive; to attempt to forcibly remount, call drive.mount(\"/content/drive\", force_remount=True).\n"
          ]
        }
      ],
      "source": [
        "from google.colab import drive\n",
        "drive.mount('/content/drive')"
      ]
    },
    {
      "cell_type": "code",
      "execution_count": 33,
      "metadata": {
        "id": "X_clzcwUyzvX"
      },
      "outputs": [],
      "source": [
        "import numpy as np\n",
        "import pandas as pd\n",
        "import matplotlib.pyplot as plt\n",
        "import h5py\n",
        "import tensorflow\n",
        "import h5py\n",
        "import matplotlib.pyplot as plt\n",
        "import numpy as np\n",
        "from tensorflow.keras.layers import Dense, Reshape, BatchNormalization, Dropout\n",
        "from tensorflow.keras.models import Sequential\n",
        "from tensorflow.keras import regularizers, optimizers\n",
        "import math\n",
        "%matplotlib inline"
      ]
    },
    {
      "cell_type": "markdown",
      "metadata": {
        "id": "lCef5ewWy1pL"
      },
      "source": [
        "# 1.A. Read the .h5 file and assign to a variable"
      ]
    },
    {
      "cell_type": "code",
      "execution_count": 34,
      "metadata": {
        "id": "fWD6AhhKy5_M"
      },
      "outputs": [],
      "source": [
        "df= h5py.File('/content/drive/MyDrive/Colab Notebooks/Autonomous_Vehicles_SVHN_single_grey1.h5')"
      ]
    },
    {
      "cell_type": "markdown",
      "metadata": {
        "id": "63sYeNxKy9Ix"
      },
      "source": [
        "# 1.B. Print all the keys from the .h5 file"
      ]
    },
    {
      "cell_type": "code",
      "execution_count": 35,
      "metadata": {
        "id": "-QaRrkI_y8aQ",
        "colab": {
          "base_uri": "https://localhost:8080/"
        },
        "outputId": "aa71d40f-b3e9-4c93-fdcc-67d7c6cc2578"
      },
      "outputs": [
        {
          "output_type": "execute_result",
          "data": {
            "text/plain": [
              "<KeysViewHDF5 ['X_test', 'X_train', 'X_val', 'y_test', 'y_train', 'y_val']>"
            ]
          },
          "metadata": {},
          "execution_count": 35
        }
      ],
      "source": [
        "df.keys()"
      ]
    },
    {
      "cell_type": "markdown",
      "metadata": {
        "id": "v-eVyIZDzFKf"
      },
      "source": [
        "# 1.C. Split the data into X_train, X_test, Y_train, Y_test"
      ]
    },
    {
      "cell_type": "code",
      "execution_count": 36,
      "metadata": {
        "id": "DZixJcc_zIAw"
      },
      "outputs": [],
      "source": [
        "X_train = df['X_train'][:]\n",
        "y_train = df['y_train'][:]\n",
        "\n",
        "X_val = df['X_val'][:]\n",
        "y_val = df['y_val'][:]\n",
        "\n",
        "X_test = df['X_test'][:]\n",
        "y_test = df['y_test'][:]"
      ]
    },
    {
      "cell_type": "markdown",
      "metadata": {
        "id": "_KtMs8tTzrQu"
      },
      "source": [
        "# 2. Data Visualisation and preprocessing"
      ]
    },
    {
      "cell_type": "markdown",
      "metadata": {
        "id": "3eGRf0eazx1R"
      },
      "source": [
        "# A. Print shape of all the 4 data split into x, y, train, test to verify if x & y is in sync."
      ]
    },
    {
      "cell_type": "code",
      "execution_count": 37,
      "metadata": {
        "id": "HVW8xq1pztSJ",
        "colab": {
          "base_uri": "https://localhost:8080/"
        },
        "outputId": "d7cf1529-d375-41f2-f61e-c05d9bc8f696"
      },
      "outputs": [
        {
          "output_type": "stream",
          "name": "stdout",
          "text": [
            "(42000, 32, 32)\n",
            "(18000, 32, 32)\n",
            "(42000,)\n",
            "(18000,)\n"
          ]
        }
      ],
      "source": [
        "print(X_train.shape)\n",
        "print(X_test.shape)\n",
        "print(y_train.shape)\n",
        "print(y_test.shape)"
      ]
    },
    {
      "cell_type": "markdown",
      "metadata": {
        "id": "9JagqOAu0aBp"
      },
      "source": [
        "# B. Visualise first 10 images in train data and print its corresponding labels"
      ]
    },
    {
      "cell_type": "code",
      "execution_count": 38,
      "metadata": {
        "id": "DDtpoFZc0g4F",
        "colab": {
          "base_uri": "https://localhost:8080/",
          "height": 283
        },
        "outputId": "1aafd6c4-33f6-44b0-d7fb-06c769bde78b"
      },
      "outputs": [
        {
          "output_type": "stream",
          "name": "stdout",
          "text": [
            "Label for the image is 6\n"
          ]
        },
        {
          "output_type": "display_data",
          "data": {
            "text/plain": [
              "<Figure size 432x288 with 1 Axes>"
            ],
            "image/png": "[encoded data removed]"
          },
          "metadata": {
            "needs_background": "light"
          }
        }
      ],
      "source": [
        "plt.imshow(X_train[1],cmap='gray')\n",
        "print(f'Label for the image is {y_train[1]}')"
      ]
    },
    {
      "cell_type": "code",
      "execution_count": 39,
      "metadata": {
        "id": "X7XSgkwU2sd1",
        "colab": {
          "base_uri": "https://localhost:8080/",
          "height": 252
        },
        "outputId": "4e35d44c-b76a-480e-df62-d905de92e0a5"
      },
      "outputs": [
        {
          "output_type": "stream",
          "name": "stdout",
          "text": [
            "label for each of the below image: 2\n",
            "label for each of the below image: 6\n",
            "label for each of the below image: 7\n",
            "label for each of the below image: 4\n",
            "label for each of the below image: 4\n",
            "label for each of the below image: 0\n",
            "label for each of the below image: 3\n",
            "label for each of the below image: 0\n",
            "label for each of the below image: 7\n",
            "label for each of the below image: 3\n"
          ]
        },
        {
          "output_type": "display_data",
          "data": {
            "text/plain": [
              "<Figure size 720x72 with 10 Axes>"
            ],
            "image/png": "[encoded data removed]"
          },
          "metadata": {
            "needs_background": "light"
          }
        }
      ],
      "source": [
        "# visualizing the first 10 images in the dataset and their labels\n",
        "plt.figure(figsize=(10, 1))\n",
        "for i in range(10):\n",
        "    plt.subplot(1, 10, i+1)\n",
        "    plt.imshow(X_train[i], cmap=\"gray\")\n",
        "    plt.axis('off')\n",
        "    print('label for each of the below image: %s' % ((y_train[i])))\n",
        "plt.show()"
      ]
    },
    {
      "cell_type": "markdown",
      "metadata": {
        "id": "pASXLJBD35FE"
      },
      "source": [
        "# C. Reshape all the images with appropriate shape update the data in same variable. "
      ]
    },
    {
      "cell_type": "code",
      "execution_count": 40,
      "metadata": {
        "id": "d_7cUod-37WZ",
        "colab": {
          "base_uri": "https://localhost:8080/"
        },
        "outputId": "97bd9b8f-0011-49b8-a4dc-156dd7be4745"
      },
      "outputs": [
        {
          "output_type": "stream",
          "name": "stdout",
          "text": [
            "Shape of X_train is (42000, 1024)\n",
            "Shape of X_val is (60000, 1024)\n",
            "Shape of X_test is (18000, 1024)\n"
          ]
        }
      ],
      "source": [
        "# RESHAPE 2D - 32*32 into 1D - 1024\n",
        "X_train = X_train.reshape(42000, 32*32)\n",
        "X_val= X_val.reshape(X_val.shape[0], 32*32)\n",
        "X_test = X_test.reshape(X_test.shape[0],32*32)\n",
        "\n",
        "print(f'Shape of X_train is {X_train.shape}')\n",
        "print(f'Shape of X_val is {X_val.shape}')\n",
        "print(f'Shape of X_test is {X_test.shape}')"
      ]
    },
    {
      "cell_type": "markdown",
      "metadata": {
        "id": "LXZpAfL8UJXa"
      },
      "source": [
        "# D. Normalise the images i.e. Normalise the pixel values."
      ]
    },
    {
      "cell_type": "code",
      "execution_count": 41,
      "metadata": {
        "id": "xTiA1TtmUQk_",
        "colab": {
          "base_uri": "https://localhost:8080/"
        },
        "outputId": "0339e8d5-d60a-42cf-deb5-e24737489b02"
      },
      "outputs": [
        {
          "output_type": "stream",
          "name": "stdout",
          "text": [
            "Min value for Train = 0.0,Validation =0.0, Test = 0.0 \n",
            "Min value for Train = 254.97450256347656,Validation =254.97450256347656, Test = 254.97450256347656 \n"
          ]
        }
      ],
      "source": [
        "print(f'Min value for Train = {X_train.min()},Validation ={X_val.min()}, Test = {X_test.min()} ')\n",
        "print(f'Min value for Train = {X_train.max()},Validation ={X_val.max()}, Test = {X_test.max()} ')"
      ]
    },
    {
      "cell_type": "code",
      "execution_count": 42,
      "metadata": {
        "id": "u9X0nTegUYdN",
        "colab": {
          "base_uri": "https://localhost:8080/"
        },
        "outputId": "d3a22ad2-7c0d-4606-e29f-4cfd3e1dce29"
      },
      "outputs": [
        {
          "output_type": "stream",
          "name": "stdout",
          "text": [
            "Before Normalization\n",
            "Min value is 0.0\n",
            "Max value is 254.97450256347656\n",
            "\n",
            "After Normalization\n",
            "Min value is 0.0\n",
            "Max value is 1.0\n"
          ]
        }
      ],
      "source": [
        "print('Before Normalization')\n",
        "print(f'Min value is {X_train.min()}')\n",
        "print(f'Max value is {X_train.max()}\\n')\n",
        "maxVal=X_train.max()\n",
        "X_train = X_train/maxVal\n",
        "X_val= X_val/maxVal\n",
        "X_test = X_test/maxVal\n",
        "\n",
        "print('After Normalization')\n",
        "print(f'Min value is {X_train.min()}')\n",
        "print(f'Max value is {X_train.max()}')"
      ]
    },
    {
      "cell_type": "markdown",
      "metadata": {
        "id": "knd52KsZUMtT"
      },
      "source": [
        "# E. Transform Labels into format acceptable by Neural Network"
      ]
    },
    {
      "cell_type": "code",
      "execution_count": 43,
      "metadata": {
        "id": "bw0U2nonUgOo",
        "colab": {
          "base_uri": "https://localhost:8080/"
        },
        "outputId": "cb5bade7-01f7-4139-fe36-ae503f6ca206"
      },
      "outputs": [
        {
          "output_type": "stream",
          "name": "stdout",
          "text": [
            "Sample value before one hot encode 2\n",
            "\n",
            "Sample value after one hot encode [0. 0. 1. 0. 0. 0. 0. 0. 0. 0.]\n"
          ]
        }
      ],
      "source": [
        "print(f'Sample value before one hot encode {y_train[0]}\\n')\n",
        "y_train = tensorflow.keras.utils.to_categorical(y_train,num_classes=10)\n",
        "y_val= tensorflow.keras.utils.to_categorical(y_val,num_classes=10)\n",
        "y_test= tensorflow.keras.utils.to_categorical(y_test, num_classes=10)\n",
        "print(f'Sample value after one hot encode {y_train[0]}')"
      ]
    },
    {
      "cell_type": "code",
      "execution_count": 44,
      "metadata": {
        "id": "M1Wnf_ApU2l9",
        "colab": {
          "base_uri": "https://localhost:8080/",
          "height": 272
        },
        "outputId": "959eda91-4704-41d8-a5a0-024ada06b40e"
      },
      "outputs": [
        {
          "output_type": "stream",
          "name": "stdout",
          "text": [
            "Label for image at index 1 is 2\n",
            "Label for image at index 2 is 6\n",
            "Label for image at index 3 is 7\n",
            "Label for image at index 4 is 4\n",
            "Label for image at index 5 is 4\n",
            "Label for image at index 6 is 0\n",
            "Label for image at index 7 is 3\n",
            "Label for image at index 8 is 0\n",
            "Label for image at index 9 is 7\n",
            "Label for image at index 10 is 3\n"
          ]
        },
        {
          "output_type": "display_data",
          "data": {
            "text/plain": [
              "<Figure size 720x72 with 10 Axes>"
            ],
            "image/png": "[encoded data removed]"
          },
          "metadata": {
            "needs_background": "light"
          }
        }
      ],
      "source": [
        "plt.figure(figsize=(10,1))\n",
        "for i in range(10):\n",
        "    plt.subplot(1,10,i+1)\n",
        "    plt.imshow(X_train[i].reshape(32,32),cmap='gray')\n",
        "    print(f'Label for image at index {i+1} is {np.argmax(y_train[0:10][i])}')"
      ]
    },
    {
      "cell_type": "markdown",
      "metadata": {
        "id": "r7pRe4OegI_5"
      },
      "source": [
        "# F. Print total Number of classes in the Dataset"
      ]
    },
    {
      "cell_type": "code",
      "execution_count": 45,
      "metadata": {
        "id": "6-zkBuF59nAe",
        "colab": {
          "base_uri": "https://localhost:8080/"
        },
        "outputId": "3560cbf2-95e7-45bb-fdfb-510c27d69bd5"
      },
      "outputs": [
        {
          "output_type": "execute_result",
          "data": {
            "text/plain": [
              "<bound method MappingHDF5.values of <HDF5 file \"Autonomous_Vehicles_SVHN_single_grey1.h5\" (mode r)>>"
            ]
          },
          "metadata": {},
          "execution_count": 45
        }
      ],
      "source": [
        "df.values"
      ]
    },
    {
      "cell_type": "markdown",
      "metadata": {
        "id": "amqeub9xDJxK"
      },
      "source": [
        "# 3. Model Training & Evaluation using Neural Network "
      ]
    },
    {
      "cell_type": "markdown",
      "metadata": {
        "id": "HivUUbWbDU6W"
      },
      "source": [
        "# A. Design a Neural Network to train a classifier"
      ]
    },
    {
      "cell_type": "code",
      "execution_count": 46,
      "metadata": {
        "id": "CV6xrHawDdBV"
      },
      "outputs": [],
      "source": [
        "def model(iterations, lr, Lambda, verb=0, eval_test=False):\n",
        "    scores=[]\n",
        "    learning_rate=lr\n",
        "    hidden_nodes=256\n",
        "    output_nodes=10\n",
        "    iterations=iterations\n",
        "    # For early stopping of model.\n",
        "    callbacks=tensorflow.keras.callbacks.EarlyStopping(monitor='loss', patience=5)\n",
        "    #model\n",
        "    model = Sequential()\n",
        "    model.add(Dense(500, input_shape=(1024,), activation='relu'))\n",
        "    model.add(BatchNormalization())\n",
        "    model.add(Dense(hidden_nodes,activation='relu'))\n",
        "    model.add(Dense(hidden_nodes,activation='relu'))\n",
        "    model.add(Dropout(0.5))\n",
        "    \n",
        "    model.add(Dense(hidden_nodes,activation='relu'))\n",
        "    model.add(Dense(hidden_nodes,activation='relu'))\n",
        "    model.add(Dropout(0.5))\n",
        "    \n",
        "    model.add(Dense(hidden_nodes,activation='relu'))\n",
        "    model.add(Dense(hidden_nodes,activation='relu'))\n",
        "    model.add(Dense(output_nodes, activation='softmax', kernel_regularizer=regularizers.l2(Lambda)))\n",
        "    # adam optmizer with custom learning rate\n",
        "    adam= optimizers.Adam(lr=learning_rate)\n",
        "    #Compile the model\n",
        "    model.compile(loss='categorical_crossentropy', optimizer=adam, metrics=['accuracy'])\n",
        "    \n",
        "    #Fit the model\n",
        "    model.fit(X_train,y_train, validation_data=(X_val,y_val),epochs=iterations,\n",
        "              batch_size=500, verbose=verb, callbacks=[callbacks])\n",
        "    \n",
        "    if eval_test == True:\n",
        "        score = model.evaluate(X_train,y_train, verbose=0)\n",
        "        scores.append(score)\n",
        "        score = model.evaluate(X_val,y_val, verbose=0)\n",
        "        scores.append(score)\n",
        "        score = model.evaluate(X_test,y_test, verbose=0)\n",
        "        scores.append(score)\n",
        "        return scores\n",
        "    else:\n",
        "        score = model.evaluate(X_val,y_val, verbose=(verb+1)%2)\n",
        "        return score"
      ]
    },
    {
      "cell_type": "code",
      "execution_count": 47,
      "metadata": {
        "id": "jC4b9Rl9zVdF",
        "colab": {
          "base_uri": "https://localhost:8080/"
        },
        "outputId": "a9a1536a-015d-4a04-ce5a-55539c7d015e"
      },
      "outputs": [
        {
          "output_type": "stream",
          "name": "stderr",
          "text": [
            "WARNING:absl:`lr` is deprecated, please use `learning_rate` instead, or use the legacy optimizer, e.g.,tf.keras.optimizers.legacy.Adam.\n"
          ]
        },
        {
          "output_type": "stream",
          "name": "stdout",
          "text": [
            "1875/1875 [==============================] - 6s 3ms/step - loss: 2.0035 - accuracy: 0.2521\n",
            "\n",
            "Loss is 2.0034549236297607 and Accuracy is 0.25208333134651184\n"
          ]
        }
      ],
      "source": [
        "iterations = 1\n",
        "lr=0.0001\n",
        "Lambda=0\n",
        "score=model(iterations, lr, Lambda)\n",
        "print(f'\\nLoss is {score[0]} and Accuracy is {score[1]}')"
      ]
    },
    {
      "cell_type": "code",
      "execution_count": 48,
      "metadata": {
        "id": "bpaNQKqhzftR",
        "colab": {
          "base_uri": "https://localhost:8080/"
        },
        "outputId": "5c8e09db-8704-480f-939d-3b1195ef9b5b"
      },
      "outputs": [
        {
          "output_type": "stream",
          "name": "stderr",
          "text": [
            "WARNING:absl:`lr` is deprecated, please use `learning_rate` instead, or use the legacy optimizer, e.g.,tf.keras.optimizers.legacy.Adam.\n"
          ]
        },
        {
          "output_type": "stream",
          "name": "stdout",
          "text": [
            "1875/1875 [==============================] - 5s 3ms/step - loss: 1.8664 - accuracy: 0.3374\n",
            "\n",
            "Loss is 1.8664329051971436 and Accuracy is 0.3373500108718872\n"
          ]
        }
      ],
      "source": [
        "iterations = 1\n",
        "lr=1e3\n",
        "Lambda=0\n",
        "score=model(iterations, lr, Lambda)\n",
        "print(f'\\nLoss is {score[0]} and Accuracy is {score[1]}')"
      ]
    },
    {
      "cell_type": "code",
      "execution_count": 49,
      "metadata": {
        "id": "kxvejmXdzyWn",
        "colab": {
          "base_uri": "https://localhost:8080/"
        },
        "outputId": "63759809-2482-4edb-c8c6-a9e0a97cb4fb"
      },
      "outputs": [
        {
          "output_type": "stream",
          "name": "stderr",
          "text": [
            "WARNING:absl:`lr` is deprecated, please use `learning_rate` instead, or use the legacy optimizer, e.g.,tf.keras.optimizers.legacy.Adam.\n"
          ]
        },
        {
          "output_type": "stream",
          "name": "stdout",
          "text": [
            "1875/1875 [==============================] - 7s 3ms/step - loss: 0.5005 - accuracy: 0.8515\n",
            "Loss is 0.50051349401474 and Accuracy is 0.8514833450317383\n"
          ]
        }
      ],
      "source": [
        "#let's narrow down our search a bit\n",
        "iterations = 50\n",
        "lr=1e-4\n",
        "Lambda=1e-7\n",
        "score=model(iterations, lr, Lambda)\n",
        "print(f'Loss is {score[0]} and Accuracy is {score[1]}')"
      ]
    },
    {
      "cell_type": "code",
      "execution_count": 50,
      "metadata": {
        "id": "frYvlC9Kz2se",
        "colab": {
          "base_uri": "https://localhost:8080/"
        },
        "outputId": "fdd25476-81d4-4f35-dde9-f74fbaa43e32"
      },
      "outputs": [
        {
          "output_type": "stream",
          "name": "stderr",
          "text": [
            "WARNING:absl:`lr` is deprecated, please use `learning_rate` instead, or use the legacy optimizer, e.g.,tf.keras.optimizers.legacy.Adam.\n"
          ]
        },
        {
          "output_type": "stream",
          "name": "stdout",
          "text": [
            "1875/1875 [==============================] - 6s 3ms/step - loss: 0.8115 - accuracy: 0.7498\n",
            "Loss is 0.8115136027336121 and Accuracy is 0.7497833371162415\n"
          ]
        }
      ],
      "source": [
        "iterations = 10\n",
        "lr=2\n",
        "Lambda=1e-2\n",
        "score=model(iterations, lr, Lambda)\n",
        "print(f'Loss is {score[0]} and Accuracy is {score[1]}')"
      ]
    },
    {
      "cell_type": "code",
      "execution_count": 51,
      "metadata": {
        "colab": {
          "base_uri": "https://localhost:8080/"
        },
        "id": "0q-315W_z5wI",
        "outputId": "5715a3c9-b096-42d8-eda2-476d37e8b95d"
      },
      "outputs": [
        {
          "output_type": "stream",
          "name": "stderr",
          "text": [
            "WARNING:absl:`lr` is deprecated, please use `learning_rate` instead, or use the legacy optimizer, e.g.,tf.keras.optimizers.legacy.Adam.\n"
          ]
        },
        {
          "output_type": "stream",
          "name": "stdout",
          "text": [
            "1875/1875 [==============================] - 5s 3ms/step - loss: 0.5543 - accuracy: 0.8252\n",
            "Loss is 0.5542915463447571 and Accuracy is 0.8251500129699707 with learing rate 0.00015823393675604673 and Lambda 4.7202564005487957e-07\n",
            "\n"
          ]
        },
        {
          "output_type": "stream",
          "name": "stderr",
          "text": [
            "WARNING:absl:`lr` is deprecated, please use `learning_rate` instead, or use the legacy optimizer, e.g.,tf.keras.optimizers.legacy.Adam.\n"
          ]
        },
        {
          "output_type": "stream",
          "name": "stdout",
          "text": [
            "1875/1875 [==============================] - 6s 3ms/step - loss: 0.4931 - accuracy: 0.8467\n",
            "Loss is 0.493091344833374 and Accuracy is 0.8467000126838684 with learing rate 0.0009270048259596675 and Lambda 4.767810720546716e-06\n",
            "\n"
          ]
        },
        {
          "output_type": "stream",
          "name": "stderr",
          "text": [
            "WARNING:absl:`lr` is deprecated, please use `learning_rate` instead, or use the legacy optimizer, e.g.,tf.keras.optimizers.legacy.Adam.\n"
          ]
        },
        {
          "output_type": "stream",
          "name": "stdout",
          "text": [
            "1875/1875 [==============================] - 5s 3ms/step - loss: 0.7574 - accuracy: 0.7618\n",
            "Loss is 0.7573629021644592 and Accuracy is 0.7618333101272583 with learing rate 0.00018262689366759595 and Lambda 0.00010606788339342442\n",
            "\n"
          ]
        },
        {
          "output_type": "stream",
          "name": "stderr",
          "text": [
            "WARNING:absl:`lr` is deprecated, please use `learning_rate` instead, or use the legacy optimizer, e.g.,tf.keras.optimizers.legacy.Adam.\n"
          ]
        },
        {
          "output_type": "stream",
          "name": "stdout",
          "text": [
            "1875/1875 [==============================] - 7s 4ms/step - loss: 0.5050 - accuracy: 0.8467\n"
          ]
        },
        {
          "output_type": "stream",
          "name": "stderr",
          "text": [
            "WARNING:absl:`lr` is deprecated, please use `learning_rate` instead, or use the legacy optimizer, e.g.,tf.keras.optimizers.legacy.Adam.\n"
          ]
        },
        {
          "output_type": "stream",
          "name": "stdout",
          "text": [
            "Loss is 0.5050493478775024 and Accuracy is 0.8467166423797607 with learing rate 0.03633332449866154 and Lambda 0.00012226581864883674\n",
            "\n",
            "1875/1875 [==============================] - 6s 3ms/step - loss: 0.6518 - accuracy: 0.7972\n",
            "Loss is 0.6518426537513733 and Accuracy is 0.797166645526886 with learing rate 0.014513694382424409 and Lambda 0.0017318183665814748\n",
            "\n"
          ]
        },
        {
          "output_type": "stream",
          "name": "stderr",
          "text": [
            "WARNING:absl:`lr` is deprecated, please use `learning_rate` instead, or use the legacy optimizer, e.g.,tf.keras.optimizers.legacy.Adam.\n"
          ]
        },
        {
          "output_type": "stream",
          "name": "stdout",
          "text": [
            "1875/1875 [==============================] - 7s 3ms/step - loss: 0.6894 - accuracy: 0.8008\n"
          ]
        },
        {
          "output_type": "stream",
          "name": "stderr",
          "text": [
            "WARNING:absl:`lr` is deprecated, please use `learning_rate` instead, or use the legacy optimizer, e.g.,tf.keras.optimizers.legacy.Adam.\n"
          ]
        },
        {
          "output_type": "stream",
          "name": "stdout",
          "text": [
            "Loss is 0.6893966197967529 and Accuracy is 0.8008166551589966 with learing rate 0.01863353615112938 and Lambda 1.1940364895464115e-07\n",
            "\n",
            "1875/1875 [==============================] - 6s 3ms/step - loss: 0.7528 - accuracy: 0.7771\n",
            "Loss is 0.7528064846992493 and Accuracy is 0.7770833373069763 with learing rate 2.31921356343912 and Lambda 0.00019098872906639304\n",
            "\n"
          ]
        },
        {
          "output_type": "stream",
          "name": "stderr",
          "text": [
            "WARNING:absl:`lr` is deprecated, please use `learning_rate` instead, or use the legacy optimizer, e.g.,tf.keras.optimizers.legacy.Adam.\n"
          ]
        },
        {
          "output_type": "stream",
          "name": "stdout",
          "text": [
            "1875/1875 [==============================] - 6s 3ms/step - loss: 0.6380 - accuracy: 0.7961\n",
            "Loss is 0.6380055546760559 and Accuracy is 0.7960666418075562 with learing rate 1.3032123988964328 and Lambda 0.005739558214720901\n",
            "\n"
          ]
        },
        {
          "output_type": "stream",
          "name": "stderr",
          "text": [
            "WARNING:absl:`lr` is deprecated, please use `learning_rate` instead, or use the legacy optimizer, e.g.,tf.keras.optimizers.legacy.Adam.\n"
          ]
        },
        {
          "output_type": "stream",
          "name": "stdout",
          "text": [
            "1875/1875 [==============================] - 6s 3ms/step - loss: 0.5228 - accuracy: 0.8366\n"
          ]
        },
        {
          "output_type": "stream",
          "name": "stderr",
          "text": [
            "WARNING:absl:`lr` is deprecated, please use `learning_rate` instead, or use the legacy optimizer, e.g.,tf.keras.optimizers.legacy.Adam.\n"
          ]
        },
        {
          "output_type": "stream",
          "name": "stdout",
          "text": [
            "Loss is 0.5227947235107422 and Accuracy is 0.836566686630249 with learing rate 0.00017970572692763931 and Lambda 1.4974741027433795e-06\n",
            "\n",
            "1875/1875 [==============================] - 6s 3ms/step - loss: 0.7755 - accuracy: 0.7650\n",
            "Loss is 0.7754870057106018 and Accuracy is 0.7649666666984558 with learing rate 0.00020735629161346838 and Lambda 1.283185460772339e-05\n",
            "\n"
          ]
        }
      ],
      "source": [
        "import math\n",
        "results =[]\n",
        "for i in range(10):\n",
        "    lr=math.pow(10, np.random.uniform(-4.0,1.0))\n",
        "    Lambda = math.pow(10, np.random.uniform(-7,-2))\n",
        "    iterations = 30\n",
        "    score=model(iterations, lr, Lambda)\n",
        "    result=f'Loss is {score[0]} and Accuracy is {score[1]} with learing rate {lr} and Lambda {Lambda}\\n'\n",
        "    print(result)\n",
        "    results.append(result)"
      ]
    },
    {
      "cell_type": "code",
      "execution_count": 52,
      "metadata": {
        "id": "Ro6YbY-C2XI4",
        "colab": {
          "base_uri": "https://localhost:8080/"
        },
        "outputId": "c57f05a3-b785-41ea-f2f3-4a359809f290"
      },
      "outputs": [
        {
          "output_type": "stream",
          "name": "stderr",
          "text": [
            "WARNING:absl:`lr` is deprecated, please use `learning_rate` instead, or use the legacy optimizer, e.g.,tf.keras.optimizers.legacy.Adam.\n"
          ]
        },
        {
          "output_type": "stream",
          "name": "stdout",
          "text": [
            "1875/1875 [==============================] - 6s 3ms/step - loss: 0.6868 - accuracy: 0.7968\n",
            "Loss is 0.6868090629577637 and Accuracy is 0.7968166470527649 with learing rate 0.005341439220768722 and Lambda 1.4562903289690153e-05\n",
            "\n"
          ]
        },
        {
          "output_type": "stream",
          "name": "stderr",
          "text": [
            "WARNING:absl:`lr` is deprecated, please use `learning_rate` instead, or use the legacy optimizer, e.g.,tf.keras.optimizers.legacy.Adam.\n"
          ]
        },
        {
          "output_type": "stream",
          "name": "stdout",
          "text": [
            "1875/1875 [==============================] - 6s 3ms/step - loss: 0.7256 - accuracy: 0.7946\n",
            "Loss is 0.725637674331665 and Accuracy is 0.7945666909217834 with learing rate 0.0008835353003230521 and Lambda 1.7827326546775728e-05\n",
            "\n"
          ]
        },
        {
          "output_type": "stream",
          "name": "stderr",
          "text": [
            "WARNING:absl:`lr` is deprecated, please use `learning_rate` instead, or use the legacy optimizer, e.g.,tf.keras.optimizers.legacy.Adam.\n"
          ]
        },
        {
          "output_type": "stream",
          "name": "stdout",
          "text": [
            "1875/1875 [==============================] - 5s 3ms/step - loss: 0.4395 - accuracy: 0.8700\n",
            "Loss is 0.43953368067741394 and Accuracy is 0.8699666857719421 with learing rate 0.0035137527971106043 and Lambda 0.0004817750593624292\n",
            "\n"
          ]
        },
        {
          "output_type": "stream",
          "name": "stderr",
          "text": [
            "WARNING:absl:`lr` is deprecated, please use `learning_rate` instead, or use the legacy optimizer, e.g.,tf.keras.optimizers.legacy.Adam.\n"
          ]
        },
        {
          "output_type": "stream",
          "name": "stdout",
          "text": [
            "1875/1875 [==============================] - 6s 3ms/step - loss: 0.5299 - accuracy: 0.8426\n"
          ]
        },
        {
          "output_type": "stream",
          "name": "stderr",
          "text": [
            "WARNING:absl:`lr` is deprecated, please use `learning_rate` instead, or use the legacy optimizer, e.g.,tf.keras.optimizers.legacy.Adam.\n"
          ]
        },
        {
          "output_type": "stream",
          "name": "stdout",
          "text": [
            "Loss is 0.5299082398414612 and Accuracy is 0.8425666689872742 with learing rate 0.00012206239200031281 and Lambda 9.394669065382452e-05\n",
            "\n",
            "1875/1875 [==============================] - 6s 3ms/step - loss: 0.4576 - accuracy: 0.8664\n",
            "Loss is 0.4576180577278137 and Accuracy is 0.8663833141326904 with learing rate 0.00030117719783096983 and Lambda 0.0008034291104875342\n",
            "\n"
          ]
        },
        {
          "output_type": "stream",
          "name": "stderr",
          "text": [
            "WARNING:absl:`lr` is deprecated, please use `learning_rate` instead, or use the legacy optimizer, e.g.,tf.keras.optimizers.legacy.Adam.\n"
          ]
        },
        {
          "output_type": "stream",
          "name": "stdout",
          "text": [
            "1875/1875 [==============================] - 7s 3ms/step - loss: 0.4573 - accuracy: 0.8613\n",
            "Loss is 0.45732927322387695 and Accuracy is 0.8612833619117737 with learing rate 0.0077229861423456165 and Lambda 0.00016899272335759008\n",
            "\n"
          ]
        },
        {
          "output_type": "stream",
          "name": "stderr",
          "text": [
            "WARNING:absl:`lr` is deprecated, please use `learning_rate` instead, or use the legacy optimizer, e.g.,tf.keras.optimizers.legacy.Adam.\n"
          ]
        },
        {
          "output_type": "stream",
          "name": "stdout",
          "text": [
            "1875/1875 [==============================] - 7s 3ms/step - loss: 0.4546 - accuracy: 0.8633\n"
          ]
        },
        {
          "output_type": "stream",
          "name": "stderr",
          "text": [
            "WARNING:absl:`lr` is deprecated, please use `learning_rate` instead, or use the legacy optimizer, e.g.,tf.keras.optimizers.legacy.Adam.\n"
          ]
        },
        {
          "output_type": "stream",
          "name": "stdout",
          "text": [
            "Loss is 0.45460158586502075 and Accuracy is 0.8633166551589966 with learing rate 0.008850642414576849 and Lambda 4.894661778930312e-05\n",
            "\n",
            "1875/1875 [==============================] - 5s 3ms/step - loss: 0.5228 - accuracy: 0.8414\n"
          ]
        },
        {
          "output_type": "stream",
          "name": "stderr",
          "text": [
            "WARNING:absl:`lr` is deprecated, please use `learning_rate` instead, or use the legacy optimizer, e.g.,tf.keras.optimizers.legacy.Adam.\n"
          ]
        },
        {
          "output_type": "stream",
          "name": "stdout",
          "text": [
            "Loss is 0.5227848887443542 and Accuracy is 0.8414166569709778 with learing rate 0.006247430526625676 and Lambda 7.399288260131775e-05\n",
            "\n",
            "1875/1875 [==============================] - 6s 3ms/step - loss: 0.5670 - accuracy: 0.8291\n"
          ]
        },
        {
          "output_type": "stream",
          "name": "stderr",
          "text": [
            "WARNING:absl:`lr` is deprecated, please use `learning_rate` instead, or use the legacy optimizer, e.g.,tf.keras.optimizers.legacy.Adam.\n"
          ]
        },
        {
          "output_type": "stream",
          "name": "stdout",
          "text": [
            "Loss is 0.5669613480567932 and Accuracy is 0.8290666937828064 with learing rate 0.00029623016078703546 and Lambda 0.0007614754853777485\n",
            "\n",
            "1875/1875 [==============================] - 7s 3ms/step - loss: 0.4166 - accuracy: 0.8730\n"
          ]
        },
        {
          "output_type": "stream",
          "name": "stderr",
          "text": [
            "WARNING:absl:`lr` is deprecated, please use `learning_rate` instead, or use the legacy optimizer, e.g.,tf.keras.optimizers.legacy.Adam.\n"
          ]
        },
        {
          "output_type": "stream",
          "name": "stdout",
          "text": [
            "Loss is 0.4166131317615509 and Accuracy is 0.8730166554450989 with learing rate 0.002335802408786735 and Lambda 1.3484137445151448e-05\n",
            "\n",
            "1875/1875 [==============================] - 6s 3ms/step - loss: 0.3844 - accuracy: 0.8869\n"
          ]
        },
        {
          "output_type": "stream",
          "name": "stderr",
          "text": [
            "WARNING:absl:`lr` is deprecated, please use `learning_rate` instead, or use the legacy optimizer, e.g.,tf.keras.optimizers.legacy.Adam.\n"
          ]
        },
        {
          "output_type": "stream",
          "name": "stdout",
          "text": [
            "Loss is 0.384441077709198 and Accuracy is 0.8868833184242249 with learing rate 0.005506171239648607 and Lambda 0.00025279040708090536\n",
            "\n",
            "1875/1875 [==============================] - 6s 3ms/step - loss: 0.4574 - accuracy: 0.8621\n",
            "Loss is 0.45743271708488464 and Accuracy is 0.8620666861534119 with learing rate 0.0016212640246539615 and Lambda 0.00029157467375213894\n",
            "\n"
          ]
        },
        {
          "output_type": "stream",
          "name": "stderr",
          "text": [
            "WARNING:absl:`lr` is deprecated, please use `learning_rate` instead, or use the legacy optimizer, e.g.,tf.keras.optimizers.legacy.Adam.\n"
          ]
        },
        {
          "output_type": "stream",
          "name": "stdout",
          "text": [
            "1875/1875 [==============================] - 6s 3ms/step - loss: 0.4710 - accuracy: 0.8579\n",
            "Loss is 0.4710265100002289 and Accuracy is 0.8579333424568176 with learing rate 0.0003212758527550177 and Lambda 0.00015884659526528398\n",
            "\n"
          ]
        },
        {
          "output_type": "stream",
          "name": "stderr",
          "text": [
            "WARNING:absl:`lr` is deprecated, please use `learning_rate` instead, or use the legacy optimizer, e.g.,tf.keras.optimizers.legacy.Adam.\n"
          ]
        },
        {
          "output_type": "stream",
          "name": "stdout",
          "text": [
            "1875/1875 [==============================] - 6s 3ms/step - loss: 0.6191 - accuracy: 0.8131\n",
            "Loss is 0.6191357970237732 and Accuracy is 0.8131166696548462 with learing rate 0.004258320669343495 and Lambda 1.283001962408085e-05\n",
            "\n"
          ]
        },
        {
          "output_type": "stream",
          "name": "stderr",
          "text": [
            "WARNING:absl:`lr` is deprecated, please use `learning_rate` instead, or use the legacy optimizer, e.g.,tf.keras.optimizers.legacy.Adam.\n"
          ]
        },
        {
          "output_type": "stream",
          "name": "stdout",
          "text": [
            "1875/1875 [==============================] - 5s 3ms/step - loss: 0.5004 - accuracy: 0.8494\n",
            "Loss is 0.5004433989524841 and Accuracy is 0.8493833541870117 with learing rate 0.0001823985336836735 and Lambda 0.0004840515553276743\n",
            "\n"
          ]
        },
        {
          "output_type": "stream",
          "name": "stderr",
          "text": [
            "WARNING:absl:`lr` is deprecated, please use `learning_rate` instead, or use the legacy optimizer, e.g.,tf.keras.optimizers.legacy.Adam.\n"
          ]
        },
        {
          "output_type": "stream",
          "name": "stdout",
          "text": [
            "1875/1875 [==============================] - 6s 3ms/step - loss: 0.6301 - accuracy: 0.8119\n"
          ]
        },
        {
          "output_type": "stream",
          "name": "stderr",
          "text": [
            "WARNING:absl:`lr` is deprecated, please use `learning_rate` instead, or use the legacy optimizer, e.g.,tf.keras.optimizers.legacy.Adam.\n"
          ]
        },
        {
          "output_type": "stream",
          "name": "stdout",
          "text": [
            "Loss is 0.6300926208496094 and Accuracy is 0.8119000196456909 with learing rate 0.0017246133303947025 and Lambda 0.00011549830771083957\n",
            "\n",
            "1875/1875 [==============================] - 7s 3ms/step - loss: 0.4554 - accuracy: 0.8593\n"
          ]
        },
        {
          "output_type": "stream",
          "name": "stderr",
          "text": [
            "WARNING:absl:`lr` is deprecated, please use `learning_rate` instead, or use the legacy optimizer, e.g.,tf.keras.optimizers.legacy.Adam.\n"
          ]
        },
        {
          "output_type": "stream",
          "name": "stdout",
          "text": [
            "Loss is 0.45536696910858154 and Accuracy is 0.8592666387557983 with learing rate 0.0003137483553822767 and Lambda 3.8918594738558405e-05\n",
            "\n",
            "1875/1875 [==============================] - 8s 4ms/step - loss: 0.4182 - accuracy: 0.8742\n"
          ]
        },
        {
          "output_type": "stream",
          "name": "stderr",
          "text": [
            "WARNING:absl:`lr` is deprecated, please use `learning_rate` instead, or use the legacy optimizer, e.g.,tf.keras.optimizers.legacy.Adam.\n"
          ]
        },
        {
          "output_type": "stream",
          "name": "stdout",
          "text": [
            "Loss is 0.4182155728340149 and Accuracy is 0.8741833567619324 with learing rate 0.0055638105009326805 and Lambda 6.971590504347666e-05\n",
            "\n",
            "1875/1875 [==============================] - 6s 3ms/step - loss: 0.7528 - accuracy: 0.7911\n",
            "Loss is 0.752792477607727 and Accuracy is 0.7911166548728943 with learing rate 0.00013454281534103682 and Lambda 0.0006222574988540566\n",
            "\n"
          ]
        },
        {
          "output_type": "stream",
          "name": "stderr",
          "text": [
            "WARNING:absl:`lr` is deprecated, please use `learning_rate` instead, or use the legacy optimizer, e.g.,tf.keras.optimizers.legacy.Adam.\n"
          ]
        },
        {
          "output_type": "stream",
          "name": "stdout",
          "text": [
            "1875/1875 [==============================] - 7s 3ms/step - loss: 0.4664 - accuracy: 0.8586\n",
            "Loss is 0.4664064347743988 and Accuracy is 0.8585666418075562 with learing rate 0.0002551300802477648 and Lambda 0.00044921584959265603\n",
            "\n"
          ]
        }
      ],
      "source": [
        "import math\n",
        "results =[]\n",
        "for i in range(20):\n",
        "    lr=math.pow(10, np.random.uniform(-4.0,-2.0))\n",
        "    Lambda = math.pow(10, np.random.uniform(-5,-3))\n",
        "    iterations = 50\n",
        "    score=model(iterations, lr, Lambda)\n",
        "    result=f'Loss is {score[0]} and Accuracy is {score[1]} with learing rate {lr} and Lambda {Lambda}\\n'\n",
        "    print(result)\n",
        "    results.append([result,[score[0],score[1],lr,Lambda]])"
      ]
    },
    {
      "cell_type": "code",
      "execution_count": 53,
      "metadata": {
        "id": "MYQFrSkl2fJN",
        "colab": {
          "base_uri": "https://localhost:8080/"
        },
        "outputId": "4a1f8ce1-f81e-41b9-88b4-a766e421cb26"
      },
      "outputs": [
        {
          "output_type": "stream",
          "name": "stderr",
          "text": [
            "WARNING:absl:`lr` is deprecated, please use `learning_rate` instead, or use the legacy optimizer, e.g.,tf.keras.optimizers.legacy.Adam.\n"
          ]
        }
      ],
      "source": [
        "lr= 0.001798\n",
        "Lambda= 0.000878\n",
        "iterations = 100 \n",
        "scores = model(iterations, lr, Lambda,verb=0, eval_test=True)"
      ]
    },
    {
      "cell_type": "code",
      "execution_count": 54,
      "metadata": {
        "id": "v8fUmPmN2kMg",
        "colab": {
          "base_uri": "https://localhost:8080/"
        },
        "outputId": "2aa1b581-7842-45eb-84ef-7143a2c3cbb6"
      },
      "outputs": [
        {
          "output_type": "stream",
          "name": "stdout",
          "text": [
            "Training Dataset Loss is 0.48052409291267395 Accuracy is 0.8671190738677979\n",
            "\n",
            "Validation Dataset Loss is 0.5914874076843262 Accuracy is 0.8475499749183655\n",
            "\n",
            "Test Dataset Loss is 0.8504034876823425 Accuracy is 0.8018888831138611\n",
            "\n"
          ]
        }
      ],
      "source": [
        "print(f'Training Dataset Loss is {scores[0][0]} Accuracy is {scores[0][1]}\\n')\n",
        "print(f'Validation Dataset Loss is {scores[1][0]} Accuracy is {scores[1][1]}\\n')\n",
        "print(f'Test Dataset Loss is {scores[2][0]} Accuracy is {scores[2][1]}\\n')"
      ]
    }
  ],
  "metadata": {
    "colab": {
      "provenance": []
    },
    "gpuClass": "standard",
    "kernelspec": {
      "display_name": "Python 3",
      "name": "python3"
    },
    "language_info": {
      "name": "python"
    },
    "accelerator": "GPU"
  },
  "nbformat": 4,
  "nbformat_minor": 0
}